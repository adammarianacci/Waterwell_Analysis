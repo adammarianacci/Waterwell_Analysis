{
 "cells": [
  {
   "cell_type": "markdown",
   "metadata": {},
   "source": [
    "# Introduction\n",
    "\n",
    "## Final Project Submission\n",
    "\n",
    "***\n",
    "- Student Name: Adam Marianacci\n",
    "- Student Pace: Flex\n",
    "- Scheduled project review date/time: TBD\n",
    "- Instructor Name: Mark Barbour"
   ]
  },
  {
   "cell_type": "markdown",
   "metadata": {},
   "source": [
    "# Business Understanding"
   ]
  },
  {
   "cell_type": "markdown",
   "metadata": {},
   "source": [
    "It is my job to help the WWFA (Water Wells For Africa) organization identify wells that are in need or repair in Tanzania."
   ]
  },
  {
   "cell_type": "markdown",
   "metadata": {},
   "source": [
    "# Data Understanding"
   ]
  },
  {
   "cell_type": "markdown",
   "metadata": {},
   "source": [
    "The data used in this analysis comes from the Taarifa waterpoints dashboard, which aggregates data from the Tanzania Ministry of Water. The final dataframe used in this analysis contained over 38,000 entries. The dataset consisted of various information about waterwells in Tanzania such as the functioning status, water quality,  age, source, and altitude to name a few. One limitation of the dataset is that it is a fairly small since we are dealing with predictive modeling. There were also some features that would have been useful but just had too many missing values to use. Another limitation was that many of the features in the dataset were shown to have insignificant importance when it came to predicting wells that were in need of repair. The dataset was suitable for the project because it did reveal some notable features about wells. I was able to gain insight into identifying where repairs were needed to help the WWFA promote access to potable water across Tanzania."
   ]
  },
  {
   "cell_type": "markdown",
   "metadata": {},
   "source": [
    "# Data Preperation"
   ]
  },
  {
   "cell_type": "code",
   "execution_count": 1,
   "metadata": {},
   "outputs": [],
   "source": [
    "# Importing the necessary libraries\n",
    "import pandas as pd\n",
    "from datetime import datetime\n",
    "import numpy as np\n",
    "import seaborn as sns\n",
    "import folium\n",
    "import statsmodels as sm\n",
    "import sklearn\n",
    "import sklearn.preprocessing as preprocessing\n",
    "import matplotlib.pyplot as plt\n",
    "from scipy import stats\n",
    "from sklearn import linear_model\n",
    "from sklearn.linear_model import LogisticRegression\n",
    "from sklearn.feature_selection import RFE\n",
    "from sklearn.ensemble import RandomForestClassifier\n",
    "from sklearn.tree import DecisionTreeClassifier\n",
    "from sklearn import tree\n",
    "from sklearn.metrics import confusion_matrix\n",
    "from sklearn.metrics import classification_report\n",
    "from sklearn.model_selection import cross_val_score\n",
    "from sklearn.model_selection import train_test_split\n",
    "from sklearn.preprocessing import MinMaxScaler\n",
    "from sklearn.linear_model import LinearRegression\n",
    "from sklearn.preprocessing import OneHotEncoder\n",
    "from sklearn.compose import ColumnTransformer\n",
    "from sklearn.impute import SimpleImputer\n",
    "from sklearn.metrics import r2_score, mean_squared_error, mean_absolute_error\n",
    "import warnings\n",
    "warnings.filterwarnings('ignore')"
   ]
  },
  {
   "cell_type": "code",
   "execution_count": 2,
   "metadata": {},
   "outputs": [],
   "source": [
    "# Set display options to show all rows and columns\n",
    "pd.set_option('display.max_rows', None)\n",
    "pd.set_option('display.max_columns', None)"
   ]
  },
  {
   "cell_type": "code",
   "execution_count": 3,
   "metadata": {},
   "outputs": [],
   "source": [
    "# Importing the dataframes\n",
    "df_x = pd.read_csv('data/training_set_values.csv')\n",
    "df_y = pd.read_csv('data/training_set_labels.csv')"
   ]
  },
  {
   "cell_type": "code",
   "execution_count": 4,
   "metadata": {},
   "outputs": [],
   "source": [
    "# Combining the 2 dataframes into 1 new dataframe\n",
    "Waterwells_df = pd.concat([df_y, df_x], axis=1)"
   ]
  },
  {
   "cell_type": "code",
   "execution_count": 5,
   "metadata": {
    "scrolled": false
   },
   "outputs": [
    {
     "data": {
      "text/html": [
       "<div>\n",
       "<style scoped>\n",
       "    .dataframe tbody tr th:only-of-type {\n",
       "        vertical-align: middle;\n",
       "    }\n",
       "\n",
       "    .dataframe tbody tr th {\n",
       "        vertical-align: top;\n",
       "    }\n",
       "\n",
       "    .dataframe thead th {\n",
       "        text-align: right;\n",
       "    }\n",
       "</style>\n",
       "<table border=\"1\" class=\"dataframe\">\n",
       "  <thead>\n",
       "    <tr style=\"text-align: right;\">\n",
       "      <th></th>\n",
       "      <th>id</th>\n",
       "      <th>status_group</th>\n",
       "      <th>id</th>\n",
       "      <th>amount_tsh</th>\n",
       "      <th>date_recorded</th>\n",
       "      <th>funder</th>\n",
       "      <th>gps_height</th>\n",
       "      <th>installer</th>\n",
       "      <th>longitude</th>\n",
       "      <th>latitude</th>\n",
       "      <th>wpt_name</th>\n",
       "      <th>num_private</th>\n",
       "      <th>basin</th>\n",
       "      <th>subvillage</th>\n",
       "      <th>region</th>\n",
       "      <th>region_code</th>\n",
       "      <th>district_code</th>\n",
       "      <th>lga</th>\n",
       "      <th>ward</th>\n",
       "      <th>population</th>\n",
       "      <th>public_meeting</th>\n",
       "      <th>recorded_by</th>\n",
       "      <th>scheme_management</th>\n",
       "      <th>scheme_name</th>\n",
       "      <th>permit</th>\n",
       "      <th>construction_year</th>\n",
       "      <th>extraction_type</th>\n",
       "      <th>extraction_type_group</th>\n",
       "      <th>extraction_type_class</th>\n",
       "      <th>management</th>\n",
       "      <th>management_group</th>\n",
       "      <th>payment</th>\n",
       "      <th>payment_type</th>\n",
       "      <th>water_quality</th>\n",
       "      <th>quality_group</th>\n",
       "      <th>quantity</th>\n",
       "      <th>quantity_group</th>\n",
       "      <th>source</th>\n",
       "      <th>source_type</th>\n",
       "      <th>source_class</th>\n",
       "      <th>waterpoint_type</th>\n",
       "      <th>waterpoint_type_group</th>\n",
       "    </tr>\n",
       "  </thead>\n",
       "  <tbody>\n",
       "    <tr>\n",
       "      <th>0</th>\n",
       "      <td>69572</td>\n",
       "      <td>functional</td>\n",
       "      <td>69572</td>\n",
       "      <td>6000.0</td>\n",
       "      <td>2011-03-14</td>\n",
       "      <td>Roman</td>\n",
       "      <td>1390</td>\n",
       "      <td>Roman</td>\n",
       "      <td>34.938093</td>\n",
       "      <td>-9.856322</td>\n",
       "      <td>none</td>\n",
       "      <td>0</td>\n",
       "      <td>Lake Nyasa</td>\n",
       "      <td>Mnyusi B</td>\n",
       "      <td>Iringa</td>\n",
       "      <td>11</td>\n",
       "      <td>5</td>\n",
       "      <td>Ludewa</td>\n",
       "      <td>Mundindi</td>\n",
       "      <td>109</td>\n",
       "      <td>True</td>\n",
       "      <td>GeoData Consultants Ltd</td>\n",
       "      <td>VWC</td>\n",
       "      <td>Roman</td>\n",
       "      <td>False</td>\n",
       "      <td>1999</td>\n",
       "      <td>gravity</td>\n",
       "      <td>gravity</td>\n",
       "      <td>gravity</td>\n",
       "      <td>vwc</td>\n",
       "      <td>user-group</td>\n",
       "      <td>pay annually</td>\n",
       "      <td>annually</td>\n",
       "      <td>soft</td>\n",
       "      <td>good</td>\n",
       "      <td>enough</td>\n",
       "      <td>enough</td>\n",
       "      <td>spring</td>\n",
       "      <td>spring</td>\n",
       "      <td>groundwater</td>\n",
       "      <td>communal standpipe</td>\n",
       "      <td>communal standpipe</td>\n",
       "    </tr>\n",
       "    <tr>\n",
       "      <th>1</th>\n",
       "      <td>8776</td>\n",
       "      <td>functional</td>\n",
       "      <td>8776</td>\n",
       "      <td>0.0</td>\n",
       "      <td>2013-03-06</td>\n",
       "      <td>Grumeti</td>\n",
       "      <td>1399</td>\n",
       "      <td>GRUMETI</td>\n",
       "      <td>34.698766</td>\n",
       "      <td>-2.147466</td>\n",
       "      <td>Zahanati</td>\n",
       "      <td>0</td>\n",
       "      <td>Lake Victoria</td>\n",
       "      <td>Nyamara</td>\n",
       "      <td>Mara</td>\n",
       "      <td>20</td>\n",
       "      <td>2</td>\n",
       "      <td>Serengeti</td>\n",
       "      <td>Natta</td>\n",
       "      <td>280</td>\n",
       "      <td>NaN</td>\n",
       "      <td>GeoData Consultants Ltd</td>\n",
       "      <td>Other</td>\n",
       "      <td>NaN</td>\n",
       "      <td>True</td>\n",
       "      <td>2010</td>\n",
       "      <td>gravity</td>\n",
       "      <td>gravity</td>\n",
       "      <td>gravity</td>\n",
       "      <td>wug</td>\n",
       "      <td>user-group</td>\n",
       "      <td>never pay</td>\n",
       "      <td>never pay</td>\n",
       "      <td>soft</td>\n",
       "      <td>good</td>\n",
       "      <td>insufficient</td>\n",
       "      <td>insufficient</td>\n",
       "      <td>rainwater harvesting</td>\n",
       "      <td>rainwater harvesting</td>\n",
       "      <td>surface</td>\n",
       "      <td>communal standpipe</td>\n",
       "      <td>communal standpipe</td>\n",
       "    </tr>\n",
       "    <tr>\n",
       "      <th>2</th>\n",
       "      <td>34310</td>\n",
       "      <td>functional</td>\n",
       "      <td>34310</td>\n",
       "      <td>25.0</td>\n",
       "      <td>2013-02-25</td>\n",
       "      <td>Lottery Club</td>\n",
       "      <td>686</td>\n",
       "      <td>World vision</td>\n",
       "      <td>37.460664</td>\n",
       "      <td>-3.821329</td>\n",
       "      <td>Kwa Mahundi</td>\n",
       "      <td>0</td>\n",
       "      <td>Pangani</td>\n",
       "      <td>Majengo</td>\n",
       "      <td>Manyara</td>\n",
       "      <td>21</td>\n",
       "      <td>4</td>\n",
       "      <td>Simanjiro</td>\n",
       "      <td>Ngorika</td>\n",
       "      <td>250</td>\n",
       "      <td>True</td>\n",
       "      <td>GeoData Consultants Ltd</td>\n",
       "      <td>VWC</td>\n",
       "      <td>Nyumba ya mungu pipe scheme</td>\n",
       "      <td>True</td>\n",
       "      <td>2009</td>\n",
       "      <td>gravity</td>\n",
       "      <td>gravity</td>\n",
       "      <td>gravity</td>\n",
       "      <td>vwc</td>\n",
       "      <td>user-group</td>\n",
       "      <td>pay per bucket</td>\n",
       "      <td>per bucket</td>\n",
       "      <td>soft</td>\n",
       "      <td>good</td>\n",
       "      <td>enough</td>\n",
       "      <td>enough</td>\n",
       "      <td>dam</td>\n",
       "      <td>dam</td>\n",
       "      <td>surface</td>\n",
       "      <td>communal standpipe multiple</td>\n",
       "      <td>communal standpipe</td>\n",
       "    </tr>\n",
       "    <tr>\n",
       "      <th>3</th>\n",
       "      <td>67743</td>\n",
       "      <td>non functional</td>\n",
       "      <td>67743</td>\n",
       "      <td>0.0</td>\n",
       "      <td>2013-01-28</td>\n",
       "      <td>Unicef</td>\n",
       "      <td>263</td>\n",
       "      <td>UNICEF</td>\n",
       "      <td>38.486161</td>\n",
       "      <td>-11.155298</td>\n",
       "      <td>Zahanati Ya Nanyumbu</td>\n",
       "      <td>0</td>\n",
       "      <td>Ruvuma / Southern Coast</td>\n",
       "      <td>Mahakamani</td>\n",
       "      <td>Mtwara</td>\n",
       "      <td>90</td>\n",
       "      <td>63</td>\n",
       "      <td>Nanyumbu</td>\n",
       "      <td>Nanyumbu</td>\n",
       "      <td>58</td>\n",
       "      <td>True</td>\n",
       "      <td>GeoData Consultants Ltd</td>\n",
       "      <td>VWC</td>\n",
       "      <td>NaN</td>\n",
       "      <td>True</td>\n",
       "      <td>1986</td>\n",
       "      <td>submersible</td>\n",
       "      <td>submersible</td>\n",
       "      <td>submersible</td>\n",
       "      <td>vwc</td>\n",
       "      <td>user-group</td>\n",
       "      <td>never pay</td>\n",
       "      <td>never pay</td>\n",
       "      <td>soft</td>\n",
       "      <td>good</td>\n",
       "      <td>dry</td>\n",
       "      <td>dry</td>\n",
       "      <td>machine dbh</td>\n",
       "      <td>borehole</td>\n",
       "      <td>groundwater</td>\n",
       "      <td>communal standpipe multiple</td>\n",
       "      <td>communal standpipe</td>\n",
       "    </tr>\n",
       "    <tr>\n",
       "      <th>4</th>\n",
       "      <td>19728</td>\n",
       "      <td>functional</td>\n",
       "      <td>19728</td>\n",
       "      <td>0.0</td>\n",
       "      <td>2011-07-13</td>\n",
       "      <td>Action In A</td>\n",
       "      <td>0</td>\n",
       "      <td>Artisan</td>\n",
       "      <td>31.130847</td>\n",
       "      <td>-1.825359</td>\n",
       "      <td>Shuleni</td>\n",
       "      <td>0</td>\n",
       "      <td>Lake Victoria</td>\n",
       "      <td>Kyanyamisa</td>\n",
       "      <td>Kagera</td>\n",
       "      <td>18</td>\n",
       "      <td>1</td>\n",
       "      <td>Karagwe</td>\n",
       "      <td>Nyakasimbi</td>\n",
       "      <td>0</td>\n",
       "      <td>True</td>\n",
       "      <td>GeoData Consultants Ltd</td>\n",
       "      <td>NaN</td>\n",
       "      <td>NaN</td>\n",
       "      <td>True</td>\n",
       "      <td>0</td>\n",
       "      <td>gravity</td>\n",
       "      <td>gravity</td>\n",
       "      <td>gravity</td>\n",
       "      <td>other</td>\n",
       "      <td>other</td>\n",
       "      <td>never pay</td>\n",
       "      <td>never pay</td>\n",
       "      <td>soft</td>\n",
       "      <td>good</td>\n",
       "      <td>seasonal</td>\n",
       "      <td>seasonal</td>\n",
       "      <td>rainwater harvesting</td>\n",
       "      <td>rainwater harvesting</td>\n",
       "      <td>surface</td>\n",
       "      <td>communal standpipe</td>\n",
       "      <td>communal standpipe</td>\n",
       "    </tr>\n",
       "  </tbody>\n",
       "</table>\n",
       "</div>"
      ],
      "text/plain": [
       "      id    status_group     id  amount_tsh date_recorded        funder  \\\n",
       "0  69572      functional  69572      6000.0    2011-03-14         Roman   \n",
       "1   8776      functional   8776         0.0    2013-03-06       Grumeti   \n",
       "2  34310      functional  34310        25.0    2013-02-25  Lottery Club   \n",
       "3  67743  non functional  67743         0.0    2013-01-28        Unicef   \n",
       "4  19728      functional  19728         0.0    2011-07-13   Action In A   \n",
       "\n",
       "   gps_height     installer  longitude   latitude              wpt_name  \\\n",
       "0        1390         Roman  34.938093  -9.856322                  none   \n",
       "1        1399       GRUMETI  34.698766  -2.147466              Zahanati   \n",
       "2         686  World vision  37.460664  -3.821329           Kwa Mahundi   \n",
       "3         263        UNICEF  38.486161 -11.155298  Zahanati Ya Nanyumbu   \n",
       "4           0       Artisan  31.130847  -1.825359               Shuleni   \n",
       "\n",
       "   num_private                    basin  subvillage   region  region_code  \\\n",
       "0            0               Lake Nyasa    Mnyusi B   Iringa           11   \n",
       "1            0            Lake Victoria     Nyamara     Mara           20   \n",
       "2            0                  Pangani     Majengo  Manyara           21   \n",
       "3            0  Ruvuma / Southern Coast  Mahakamani   Mtwara           90   \n",
       "4            0            Lake Victoria  Kyanyamisa   Kagera           18   \n",
       "\n",
       "   district_code        lga        ward  population public_meeting  \\\n",
       "0              5     Ludewa    Mundindi         109           True   \n",
       "1              2  Serengeti       Natta         280            NaN   \n",
       "2              4  Simanjiro     Ngorika         250           True   \n",
       "3             63   Nanyumbu    Nanyumbu          58           True   \n",
       "4              1    Karagwe  Nyakasimbi           0           True   \n",
       "\n",
       "               recorded_by scheme_management                  scheme_name  \\\n",
       "0  GeoData Consultants Ltd               VWC                        Roman   \n",
       "1  GeoData Consultants Ltd             Other                          NaN   \n",
       "2  GeoData Consultants Ltd               VWC  Nyumba ya mungu pipe scheme   \n",
       "3  GeoData Consultants Ltd               VWC                          NaN   \n",
       "4  GeoData Consultants Ltd               NaN                          NaN   \n",
       "\n",
       "  permit  construction_year extraction_type extraction_type_group  \\\n",
       "0  False               1999         gravity               gravity   \n",
       "1   True               2010         gravity               gravity   \n",
       "2   True               2009         gravity               gravity   \n",
       "3   True               1986     submersible           submersible   \n",
       "4   True                  0         gravity               gravity   \n",
       "\n",
       "  extraction_type_class management management_group         payment  \\\n",
       "0               gravity        vwc       user-group    pay annually   \n",
       "1               gravity        wug       user-group       never pay   \n",
       "2               gravity        vwc       user-group  pay per bucket   \n",
       "3           submersible        vwc       user-group       never pay   \n",
       "4               gravity      other            other       never pay   \n",
       "\n",
       "  payment_type water_quality quality_group      quantity quantity_group  \\\n",
       "0     annually          soft          good        enough         enough   \n",
       "1    never pay          soft          good  insufficient   insufficient   \n",
       "2   per bucket          soft          good        enough         enough   \n",
       "3    never pay          soft          good           dry            dry   \n",
       "4    never pay          soft          good      seasonal       seasonal   \n",
       "\n",
       "                 source           source_type source_class  \\\n",
       "0                spring                spring  groundwater   \n",
       "1  rainwater harvesting  rainwater harvesting      surface   \n",
       "2                   dam                   dam      surface   \n",
       "3           machine dbh              borehole  groundwater   \n",
       "4  rainwater harvesting  rainwater harvesting      surface   \n",
       "\n",
       "               waterpoint_type waterpoint_type_group  \n",
       "0           communal standpipe    communal standpipe  \n",
       "1           communal standpipe    communal standpipe  \n",
       "2  communal standpipe multiple    communal standpipe  \n",
       "3  communal standpipe multiple    communal standpipe  \n",
       "4           communal standpipe    communal standpipe  "
      ]
     },
     "execution_count": 5,
     "metadata": {},
     "output_type": "execute_result"
    }
   ],
   "source": [
    "# Previewing the dataframe\n",
    "Waterwells_df.head()"
   ]
  },
  {
   "cell_type": "code",
   "execution_count": 6,
   "metadata": {},
   "outputs": [
    {
     "name": "stdout",
     "output_type": "stream",
     "text": [
      "<class 'pandas.core.frame.DataFrame'>\n",
      "RangeIndex: 59400 entries, 0 to 59399\n",
      "Data columns (total 42 columns):\n",
      " #   Column                 Non-Null Count  Dtype  \n",
      "---  ------                 --------------  -----  \n",
      " 0   id                     59400 non-null  int64  \n",
      " 1   status_group           59400 non-null  object \n",
      " 2   id                     59400 non-null  int64  \n",
      " 3   amount_tsh             59400 non-null  float64\n",
      " 4   date_recorded          59400 non-null  object \n",
      " 5   funder                 55765 non-null  object \n",
      " 6   gps_height             59400 non-null  int64  \n",
      " 7   installer              55745 non-null  object \n",
      " 8   longitude              59400 non-null  float64\n",
      " 9   latitude               59400 non-null  float64\n",
      " 10  wpt_name               59400 non-null  object \n",
      " 11  num_private            59400 non-null  int64  \n",
      " 12  basin                  59400 non-null  object \n",
      " 13  subvillage             59029 non-null  object \n",
      " 14  region                 59400 non-null  object \n",
      " 15  region_code            59400 non-null  int64  \n",
      " 16  district_code          59400 non-null  int64  \n",
      " 17  lga                    59400 non-null  object \n",
      " 18  ward                   59400 non-null  object \n",
      " 19  population             59400 non-null  int64  \n",
      " 20  public_meeting         56066 non-null  object \n",
      " 21  recorded_by            59400 non-null  object \n",
      " 22  scheme_management      55523 non-null  object \n",
      " 23  scheme_name            31234 non-null  object \n",
      " 24  permit                 56344 non-null  object \n",
      " 25  construction_year      59400 non-null  int64  \n",
      " 26  extraction_type        59400 non-null  object \n",
      " 27  extraction_type_group  59400 non-null  object \n",
      " 28  extraction_type_class  59400 non-null  object \n",
      " 29  management             59400 non-null  object \n",
      " 30  management_group       59400 non-null  object \n",
      " 31  payment                59400 non-null  object \n",
      " 32  payment_type           59400 non-null  object \n",
      " 33  water_quality          59400 non-null  object \n",
      " 34  quality_group          59400 non-null  object \n",
      " 35  quantity               59400 non-null  object \n",
      " 36  quantity_group         59400 non-null  object \n",
      " 37  source                 59400 non-null  object \n",
      " 38  source_type            59400 non-null  object \n",
      " 39  source_class           59400 non-null  object \n",
      " 40  waterpoint_type        59400 non-null  object \n",
      " 41  waterpoint_type_group  59400 non-null  object \n",
      "dtypes: float64(3), int64(8), object(31)\n",
      "memory usage: 19.0+ MB\n"
     ]
    }
   ],
   "source": [
    "# Checking the datatypes in my df along with missing values\n",
    "Waterwells_df.info()"
   ]
  },
  {
   "cell_type": "markdown",
   "metadata": {},
   "source": [
    "Dropping columns that are not directly related to the business problem and also have high cardinality, making them difficult to one hot encode."
   ]
  },
  {
   "cell_type": "code",
   "execution_count": 7,
   "metadata": {},
   "outputs": [],
   "source": [
    "# Dropping irrelevant columns from the dataframe, also columns with large amounts of missing data\n",
    "columns_to_drop = [\n",
    "    'id', 'scheme_management', 'region', 'region_code',\n",
    "    'payment', 'public_meeting', 'district_code', 'population','amount_tsh',\n",
    "    'num_private', 'basin', 'latitude', 'longitude',\n",
    "    'waterpoint_type_group', 'source_class', 'payment_type', 'management_group', 'recorded_by', \n",
    "    'extraction_type', 'management', \n",
    "    'source_type', 'extraction_type_group', 'permit', 'funder',\n",
    "    'date_recorded', 'installer', 'ward', 'scheme_name', 'wpt_name', 'lga', 'subvillage'\n",
    "]\n",
    "\n",
    "Waterwells_df = Waterwells_df.drop(columns_to_drop, axis=1, errors='ignore')\n"
   ]
  },
  {
   "cell_type": "markdown",
   "metadata": {},
   "source": [
    "Setting up my 'y' value to become a binary class. Needs repair -'1' , Does Not need repair - '0'. I wanted to replace 'functional needs repair to read as a '1' for needing repair."
   ]
  },
  {
   "cell_type": "code",
   "execution_count": 8,
   "metadata": {},
   "outputs": [
    {
     "data": {
      "text/html": [
       "<div>\n",
       "<style scoped>\n",
       "    .dataframe tbody tr th:only-of-type {\n",
       "        vertical-align: middle;\n",
       "    }\n",
       "\n",
       "    .dataframe tbody tr th {\n",
       "        vertical-align: top;\n",
       "    }\n",
       "\n",
       "    .dataframe thead th {\n",
       "        text-align: right;\n",
       "    }\n",
       "</style>\n",
       "<table border=\"1\" class=\"dataframe\">\n",
       "  <thead>\n",
       "    <tr style=\"text-align: right;\">\n",
       "      <th></th>\n",
       "      <th>gps_height</th>\n",
       "      <th>construction_year</th>\n",
       "      <th>extraction_type_class</th>\n",
       "      <th>water_quality</th>\n",
       "      <th>quality_group</th>\n",
       "      <th>quantity</th>\n",
       "      <th>quantity_group</th>\n",
       "      <th>source</th>\n",
       "      <th>waterpoint_type</th>\n",
       "      <th>needs_repair</th>\n",
       "    </tr>\n",
       "  </thead>\n",
       "  <tbody>\n",
       "    <tr>\n",
       "      <th>0</th>\n",
       "      <td>1390</td>\n",
       "      <td>1999</td>\n",
       "      <td>gravity</td>\n",
       "      <td>soft</td>\n",
       "      <td>good</td>\n",
       "      <td>enough</td>\n",
       "      <td>enough</td>\n",
       "      <td>spring</td>\n",
       "      <td>communal standpipe</td>\n",
       "      <td>0</td>\n",
       "    </tr>\n",
       "    <tr>\n",
       "      <th>1</th>\n",
       "      <td>1399</td>\n",
       "      <td>2010</td>\n",
       "      <td>gravity</td>\n",
       "      <td>soft</td>\n",
       "      <td>good</td>\n",
       "      <td>insufficient</td>\n",
       "      <td>insufficient</td>\n",
       "      <td>rainwater harvesting</td>\n",
       "      <td>communal standpipe</td>\n",
       "      <td>0</td>\n",
       "    </tr>\n",
       "    <tr>\n",
       "      <th>2</th>\n",
       "      <td>686</td>\n",
       "      <td>2009</td>\n",
       "      <td>gravity</td>\n",
       "      <td>soft</td>\n",
       "      <td>good</td>\n",
       "      <td>enough</td>\n",
       "      <td>enough</td>\n",
       "      <td>dam</td>\n",
       "      <td>communal standpipe multiple</td>\n",
       "      <td>0</td>\n",
       "    </tr>\n",
       "    <tr>\n",
       "      <th>3</th>\n",
       "      <td>263</td>\n",
       "      <td>1986</td>\n",
       "      <td>submersible</td>\n",
       "      <td>soft</td>\n",
       "      <td>good</td>\n",
       "      <td>dry</td>\n",
       "      <td>dry</td>\n",
       "      <td>machine dbh</td>\n",
       "      <td>communal standpipe multiple</td>\n",
       "      <td>1</td>\n",
       "    </tr>\n",
       "    <tr>\n",
       "      <th>4</th>\n",
       "      <td>0</td>\n",
       "      <td>0</td>\n",
       "      <td>gravity</td>\n",
       "      <td>soft</td>\n",
       "      <td>good</td>\n",
       "      <td>seasonal</td>\n",
       "      <td>seasonal</td>\n",
       "      <td>rainwater harvesting</td>\n",
       "      <td>communal standpipe</td>\n",
       "      <td>0</td>\n",
       "    </tr>\n",
       "  </tbody>\n",
       "</table>\n",
       "</div>"
      ],
      "text/plain": [
       "   gps_height  construction_year extraction_type_class water_quality  \\\n",
       "0        1390               1999               gravity          soft   \n",
       "1        1399               2010               gravity          soft   \n",
       "2         686               2009               gravity          soft   \n",
       "3         263               1986           submersible          soft   \n",
       "4           0                  0               gravity          soft   \n",
       "\n",
       "  quality_group      quantity quantity_group                source  \\\n",
       "0          good        enough         enough                spring   \n",
       "1          good  insufficient   insufficient  rainwater harvesting   \n",
       "2          good        enough         enough                   dam   \n",
       "3          good           dry            dry           machine dbh   \n",
       "4          good      seasonal       seasonal  rainwater harvesting   \n",
       "\n",
       "               waterpoint_type  needs_repair  \n",
       "0           communal standpipe             0  \n",
       "1           communal standpipe             0  \n",
       "2  communal standpipe multiple             0  \n",
       "3  communal standpipe multiple             1  \n",
       "4           communal standpipe             0  "
      ]
     },
     "execution_count": 8,
     "metadata": {},
     "output_type": "execute_result"
    }
   ],
   "source": [
    "# Create a new column 'needs_repair' by merging the two categories\n",
    "Waterwells_df['needs_repair'] = Waterwells_df['status_group'].replace(\n",
    "    {'functional': 0, 'non functional': 1, \n",
    "     'functional needs repair': 1})\n",
    "\n",
    "# Drop the original 'status_group' column\n",
    "Waterwells_df.drop('status_group', axis=1, inplace=True)\n",
    "\n",
    "#Display the updated DataFrame\n",
    "Waterwells_df.head()\n",
    "\n"
   ]
  },
  {
   "cell_type": "markdown",
   "metadata": {},
   "source": [
    "I wanted to change the construction year into a new column 'age' so it could be easier to work with."
   ]
  },
  {
   "cell_type": "code",
   "execution_count": 9,
   "metadata": {},
   "outputs": [],
   "source": [
    "#dropping the missing values from the 'construction_year' column and creating a new df\n",
    "Construction_Year_df = Waterwells_df[Waterwells_df['construction_year'] != 0]\n",
    "\n",
    "# Calculate the current year\n",
    "current_year = datetime.now().year\n",
    "\n",
    "# Create a new column 'age' by subtracting construction year from the current year\n",
    "Construction_Year_df['age'] = current_year - Waterwells_df['construction_year']"
   ]
  },
  {
   "cell_type": "code",
   "execution_count": 11,
   "metadata": {},
   "outputs": [],
   "source": [
    "# deleting the 'construction_year' column since we replaced it with an 'age' column\n",
    "Construction_Year_df = Construction_Year_df.drop('construction_year', axis=1)"
   ]
  },
  {
   "cell_type": "markdown",
   "metadata": {},
   "source": [
    "We have a class imbalance with the majority of wells not needing repair."
   ]
  },
  {
   "cell_type": "code",
   "execution_count": 71,
   "metadata": {},
   "outputs": [
    {
     "data": {
      "text/plain": [
       "0    21704\n",
       "1    16987\n",
       "Name: needs_repair, dtype: int64"
      ]
     },
     "execution_count": 71,
     "metadata": {},
     "output_type": "execute_result"
    }
   ],
   "source": [
    "# Viewing the value counts of 'needs_repair'\n",
    "Construction_Year_df['needs_repair'].value_counts()"
   ]
  },
  {
   "cell_type": "code",
   "execution_count": 12,
   "metadata": {},
   "outputs": [
    {
     "data": {
      "text/html": [
       "<div>\n",
       "<style scoped>\n",
       "    .dataframe tbody tr th:only-of-type {\n",
       "        vertical-align: middle;\n",
       "    }\n",
       "\n",
       "    .dataframe tbody tr th {\n",
       "        vertical-align: top;\n",
       "    }\n",
       "\n",
       "    .dataframe thead th {\n",
       "        text-align: right;\n",
       "    }\n",
       "</style>\n",
       "<table border=\"1\" class=\"dataframe\">\n",
       "  <thead>\n",
       "    <tr style=\"text-align: right;\">\n",
       "      <th></th>\n",
       "      <th>gps_height</th>\n",
       "      <th>extraction_type_class</th>\n",
       "      <th>water_quality</th>\n",
       "      <th>quality_group</th>\n",
       "      <th>quantity</th>\n",
       "      <th>quantity_group</th>\n",
       "      <th>source</th>\n",
       "      <th>waterpoint_type</th>\n",
       "      <th>needs_repair</th>\n",
       "      <th>age</th>\n",
       "    </tr>\n",
       "  </thead>\n",
       "  <tbody>\n",
       "    <tr>\n",
       "      <th>0</th>\n",
       "      <td>1390</td>\n",
       "      <td>gravity</td>\n",
       "      <td>soft</td>\n",
       "      <td>good</td>\n",
       "      <td>enough</td>\n",
       "      <td>enough</td>\n",
       "      <td>spring</td>\n",
       "      <td>communal standpipe</td>\n",
       "      <td>0</td>\n",
       "      <td>25</td>\n",
       "    </tr>\n",
       "    <tr>\n",
       "      <th>1</th>\n",
       "      <td>1399</td>\n",
       "      <td>gravity</td>\n",
       "      <td>soft</td>\n",
       "      <td>good</td>\n",
       "      <td>insufficient</td>\n",
       "      <td>insufficient</td>\n",
       "      <td>rainwater harvesting</td>\n",
       "      <td>communal standpipe</td>\n",
       "      <td>0</td>\n",
       "      <td>14</td>\n",
       "    </tr>\n",
       "    <tr>\n",
       "      <th>2</th>\n",
       "      <td>686</td>\n",
       "      <td>gravity</td>\n",
       "      <td>soft</td>\n",
       "      <td>good</td>\n",
       "      <td>enough</td>\n",
       "      <td>enough</td>\n",
       "      <td>dam</td>\n",
       "      <td>communal standpipe multiple</td>\n",
       "      <td>0</td>\n",
       "      <td>15</td>\n",
       "    </tr>\n",
       "    <tr>\n",
       "      <th>3</th>\n",
       "      <td>263</td>\n",
       "      <td>submersible</td>\n",
       "      <td>soft</td>\n",
       "      <td>good</td>\n",
       "      <td>dry</td>\n",
       "      <td>dry</td>\n",
       "      <td>machine dbh</td>\n",
       "      <td>communal standpipe multiple</td>\n",
       "      <td>1</td>\n",
       "      <td>38</td>\n",
       "    </tr>\n",
       "    <tr>\n",
       "      <th>5</th>\n",
       "      <td>0</td>\n",
       "      <td>submersible</td>\n",
       "      <td>salty</td>\n",
       "      <td>salty</td>\n",
       "      <td>enough</td>\n",
       "      <td>enough</td>\n",
       "      <td>other</td>\n",
       "      <td>communal standpipe multiple</td>\n",
       "      <td>0</td>\n",
       "      <td>15</td>\n",
       "    </tr>\n",
       "  </tbody>\n",
       "</table>\n",
       "</div>"
      ],
      "text/plain": [
       "   gps_height extraction_type_class water_quality quality_group      quantity  \\\n",
       "0        1390               gravity          soft          good        enough   \n",
       "1        1399               gravity          soft          good  insufficient   \n",
       "2         686               gravity          soft          good        enough   \n",
       "3         263           submersible          soft          good           dry   \n",
       "5           0           submersible         salty         salty        enough   \n",
       "\n",
       "  quantity_group                source              waterpoint_type  \\\n",
       "0         enough                spring           communal standpipe   \n",
       "1   insufficient  rainwater harvesting           communal standpipe   \n",
       "2         enough                   dam  communal standpipe multiple   \n",
       "3            dry           machine dbh  communal standpipe multiple   \n",
       "5         enough                 other  communal standpipe multiple   \n",
       "\n",
       "   needs_repair  age  \n",
       "0             0   25  \n",
       "1             0   14  \n",
       "2             0   15  \n",
       "3             1   38  \n",
       "5             0   15  "
      ]
     },
     "execution_count": 12,
     "metadata": {},
     "output_type": "execute_result"
    }
   ],
   "source": [
    "# previewing the new df\n",
    "Construction_Year_df.head()"
   ]
  },
  {
   "cell_type": "code",
   "execution_count": 13,
   "metadata": {},
   "outputs": [
    {
     "name": "stdout",
     "output_type": "stream",
     "text": [
      "<class 'pandas.core.frame.DataFrame'>\n",
      "Int64Index: 38691 entries, 0 to 59399\n",
      "Data columns (total 10 columns):\n",
      " #   Column                 Non-Null Count  Dtype \n",
      "---  ------                 --------------  ----- \n",
      " 0   gps_height             38691 non-null  int64 \n",
      " 1   extraction_type_class  38691 non-null  object\n",
      " 2   water_quality          38691 non-null  object\n",
      " 3   quality_group          38691 non-null  object\n",
      " 4   quantity               38691 non-null  object\n",
      " 5   quantity_group         38691 non-null  object\n",
      " 6   source                 38691 non-null  object\n",
      " 7   waterpoint_type        38691 non-null  object\n",
      " 8   needs_repair           38691 non-null  int64 \n",
      " 9   age                    38691 non-null  int64 \n",
      "dtypes: int64(3), object(7)\n",
      "memory usage: 3.2+ MB\n"
     ]
    }
   ],
   "source": [
    "# Checking the data types once again and making sure I no longer have any missing values\n",
    "Construction_Year_df.info()"
   ]
  },
  {
   "cell_type": "code",
   "execution_count": 15,
   "metadata": {},
   "outputs": [],
   "source": [
    "# Defining X and y variables\n",
    "y = Construction_Year_df[\"needs_repair\"]\n",
    "X = Construction_Year_df.drop(\"needs_repair\", axis=1)"
   ]
  },
  {
   "cell_type": "code",
   "execution_count": 16,
   "metadata": {},
   "outputs": [],
   "source": [
    "# Performing a train, test, split\n",
    "X_train, X_test, y_train, y_test = train_test_split(X, y, test_size = 0.2, random_state=42)"
   ]
  },
  {
   "cell_type": "code",
   "execution_count": 17,
   "metadata": {},
   "outputs": [
    {
     "data": {
      "text/plain": [
       "gps_height               0\n",
       "extraction_type_class    0\n",
       "water_quality            0\n",
       "quality_group            0\n",
       "quantity                 0\n",
       "quantity_group           0\n",
       "source                   0\n",
       "waterpoint_type          0\n",
       "age                      0\n",
       "dtype: int64"
      ]
     },
     "execution_count": 17,
     "metadata": {},
     "output_type": "execute_result"
    }
   ],
   "source": [
    "# Looking at the number of missing values in each column\n",
    "X_train.isna().sum()"
   ]
  },
  {
   "cell_type": "code",
   "execution_count": 18,
   "metadata": {
    "scrolled": true
   },
   "outputs": [],
   "source": [
    "# Create a list of all the categorical features\n",
    "cols_to_transform = ['quantity_group', 'waterpoint_type','extraction_type_class',\n",
    "                     'quality_group', 'source',\n",
    "                     'water_quality', 'quantity']\n",
    "# Create a dataframe with the new dummy columns created from the cols_to_transform list\n",
    "X_train = pd.get_dummies(\n",
    "    data=X_train, columns=cols_to_transform, drop_first=True, dtype=int)"
   ]
  },
  {
   "cell_type": "code",
   "execution_count": 19,
   "metadata": {},
   "outputs": [
    {
     "name": "stdout",
     "output_type": "stream",
     "text": [
      "<class 'pandas.core.frame.DataFrame'>\n",
      "Int64Index: 30952 entries, 3488 to 24205\n",
      "Data columns (total 43 columns):\n",
      " #   Column                                       Non-Null Count  Dtype\n",
      "---  ------                                       --------------  -----\n",
      " 0   gps_height                                   30952 non-null  int64\n",
      " 1   age                                          30952 non-null  int64\n",
      " 2   quantity_group_enough                        30952 non-null  int64\n",
      " 3   quantity_group_insufficient                  30952 non-null  int64\n",
      " 4   quantity_group_seasonal                      30952 non-null  int64\n",
      " 5   quantity_group_unknown                       30952 non-null  int64\n",
      " 6   waterpoint_type_communal standpipe           30952 non-null  int64\n",
      " 7   waterpoint_type_communal standpipe multiple  30952 non-null  int64\n",
      " 8   waterpoint_type_dam                          30952 non-null  int64\n",
      " 9   waterpoint_type_hand pump                    30952 non-null  int64\n",
      " 10  waterpoint_type_improved spring              30952 non-null  int64\n",
      " 11  waterpoint_type_other                        30952 non-null  int64\n",
      " 12  extraction_type_class_handpump               30952 non-null  int64\n",
      " 13  extraction_type_class_motorpump              30952 non-null  int64\n",
      " 14  extraction_type_class_other                  30952 non-null  int64\n",
      " 15  extraction_type_class_rope pump              30952 non-null  int64\n",
      " 16  extraction_type_class_submersible            30952 non-null  int64\n",
      " 17  extraction_type_class_wind-powered           30952 non-null  int64\n",
      " 18  quality_group_fluoride                       30952 non-null  int64\n",
      " 19  quality_group_good                           30952 non-null  int64\n",
      " 20  quality_group_milky                          30952 non-null  int64\n",
      " 21  quality_group_salty                          30952 non-null  int64\n",
      " 22  quality_group_unknown                        30952 non-null  int64\n",
      " 23  source_hand dtw                              30952 non-null  int64\n",
      " 24  source_lake                                  30952 non-null  int64\n",
      " 25  source_machine dbh                           30952 non-null  int64\n",
      " 26  source_other                                 30952 non-null  int64\n",
      " 27  source_rainwater harvesting                  30952 non-null  int64\n",
      " 28  source_river                                 30952 non-null  int64\n",
      " 29  source_shallow well                          30952 non-null  int64\n",
      " 30  source_spring                                30952 non-null  int64\n",
      " 31  source_unknown                               30952 non-null  int64\n",
      " 32  water_quality_fluoride                       30952 non-null  int64\n",
      " 33  water_quality_fluoride abandoned             30952 non-null  int64\n",
      " 34  water_quality_milky                          30952 non-null  int64\n",
      " 35  water_quality_salty                          30952 non-null  int64\n",
      " 36  water_quality_salty abandoned                30952 non-null  int64\n",
      " 37  water_quality_soft                           30952 non-null  int64\n",
      " 38  water_quality_unknown                        30952 non-null  int64\n",
      " 39  quantity_enough                              30952 non-null  int64\n",
      " 40  quantity_insufficient                        30952 non-null  int64\n",
      " 41  quantity_seasonal                            30952 non-null  int64\n",
      " 42  quantity_unknown                             30952 non-null  int64\n",
      "dtypes: int64(43)\n",
      "memory usage: 10.4 MB\n"
     ]
    }
   ],
   "source": [
    "# Checking to see if all the data is now numerical - yes. \n",
    "X_train.info()"
   ]
  },
  {
   "cell_type": "code",
   "execution_count": 20,
   "metadata": {},
   "outputs": [
    {
     "data": {
      "text/html": [
       "<div>\n",
       "<style scoped>\n",
       "    .dataframe tbody tr th:only-of-type {\n",
       "        vertical-align: middle;\n",
       "    }\n",
       "\n",
       "    .dataframe tbody tr th {\n",
       "        vertical-align: top;\n",
       "    }\n",
       "\n",
       "    .dataframe thead th {\n",
       "        text-align: right;\n",
       "    }\n",
       "</style>\n",
       "<table border=\"1\" class=\"dataframe\">\n",
       "  <thead>\n",
       "    <tr style=\"text-align: right;\">\n",
       "      <th></th>\n",
       "      <th>gps_height</th>\n",
       "      <th>age</th>\n",
       "      <th>quantity_group_enough</th>\n",
       "      <th>quantity_group_insufficient</th>\n",
       "      <th>quantity_group_seasonal</th>\n",
       "      <th>quantity_group_unknown</th>\n",
       "      <th>waterpoint_type_communal standpipe</th>\n",
       "      <th>waterpoint_type_communal standpipe multiple</th>\n",
       "      <th>waterpoint_type_dam</th>\n",
       "      <th>waterpoint_type_hand pump</th>\n",
       "      <th>waterpoint_type_improved spring</th>\n",
       "      <th>waterpoint_type_other</th>\n",
       "      <th>extraction_type_class_handpump</th>\n",
       "      <th>extraction_type_class_motorpump</th>\n",
       "      <th>extraction_type_class_other</th>\n",
       "      <th>extraction_type_class_rope pump</th>\n",
       "      <th>extraction_type_class_submersible</th>\n",
       "      <th>extraction_type_class_wind-powered</th>\n",
       "      <th>quality_group_fluoride</th>\n",
       "      <th>quality_group_good</th>\n",
       "      <th>quality_group_milky</th>\n",
       "      <th>quality_group_salty</th>\n",
       "      <th>quality_group_unknown</th>\n",
       "      <th>source_hand dtw</th>\n",
       "      <th>source_lake</th>\n",
       "      <th>source_machine dbh</th>\n",
       "      <th>source_other</th>\n",
       "      <th>source_rainwater harvesting</th>\n",
       "      <th>source_river</th>\n",
       "      <th>source_shallow well</th>\n",
       "      <th>source_spring</th>\n",
       "      <th>source_unknown</th>\n",
       "      <th>water_quality_fluoride</th>\n",
       "      <th>water_quality_fluoride abandoned</th>\n",
       "      <th>water_quality_milky</th>\n",
       "      <th>water_quality_salty</th>\n",
       "      <th>water_quality_salty abandoned</th>\n",
       "      <th>water_quality_soft</th>\n",
       "      <th>water_quality_unknown</th>\n",
       "      <th>quantity_enough</th>\n",
       "      <th>quantity_insufficient</th>\n",
       "      <th>quantity_seasonal</th>\n",
       "      <th>quantity_unknown</th>\n",
       "    </tr>\n",
       "  </thead>\n",
       "  <tbody>\n",
       "    <tr>\n",
       "      <th>3488</th>\n",
       "      <td>1455</td>\n",
       "      <td>19</td>\n",
       "      <td>0</td>\n",
       "      <td>0</td>\n",
       "      <td>1</td>\n",
       "      <td>0</td>\n",
       "      <td>0</td>\n",
       "      <td>0</td>\n",
       "      <td>0</td>\n",
       "      <td>1</td>\n",
       "      <td>0</td>\n",
       "      <td>0</td>\n",
       "      <td>1</td>\n",
       "      <td>0</td>\n",
       "      <td>0</td>\n",
       "      <td>0</td>\n",
       "      <td>0</td>\n",
       "      <td>0</td>\n",
       "      <td>0</td>\n",
       "      <td>1</td>\n",
       "      <td>0</td>\n",
       "      <td>0</td>\n",
       "      <td>0</td>\n",
       "      <td>0</td>\n",
       "      <td>0</td>\n",
       "      <td>0</td>\n",
       "      <td>0</td>\n",
       "      <td>0</td>\n",
       "      <td>0</td>\n",
       "      <td>1</td>\n",
       "      <td>0</td>\n",
       "      <td>0</td>\n",
       "      <td>0</td>\n",
       "      <td>0</td>\n",
       "      <td>0</td>\n",
       "      <td>0</td>\n",
       "      <td>0</td>\n",
       "      <td>1</td>\n",
       "      <td>0</td>\n",
       "      <td>0</td>\n",
       "      <td>0</td>\n",
       "      <td>1</td>\n",
       "      <td>0</td>\n",
       "    </tr>\n",
       "    <tr>\n",
       "      <th>12678</th>\n",
       "      <td>229</td>\n",
       "      <td>17</td>\n",
       "      <td>0</td>\n",
       "      <td>1</td>\n",
       "      <td>0</td>\n",
       "      <td>0</td>\n",
       "      <td>0</td>\n",
       "      <td>0</td>\n",
       "      <td>0</td>\n",
       "      <td>1</td>\n",
       "      <td>0</td>\n",
       "      <td>0</td>\n",
       "      <td>1</td>\n",
       "      <td>0</td>\n",
       "      <td>0</td>\n",
       "      <td>0</td>\n",
       "      <td>0</td>\n",
       "      <td>0</td>\n",
       "      <td>0</td>\n",
       "      <td>1</td>\n",
       "      <td>0</td>\n",
       "      <td>0</td>\n",
       "      <td>0</td>\n",
       "      <td>0</td>\n",
       "      <td>0</td>\n",
       "      <td>0</td>\n",
       "      <td>0</td>\n",
       "      <td>0</td>\n",
       "      <td>0</td>\n",
       "      <td>1</td>\n",
       "      <td>0</td>\n",
       "      <td>0</td>\n",
       "      <td>0</td>\n",
       "      <td>0</td>\n",
       "      <td>0</td>\n",
       "      <td>0</td>\n",
       "      <td>0</td>\n",
       "      <td>1</td>\n",
       "      <td>0</td>\n",
       "      <td>0</td>\n",
       "      <td>1</td>\n",
       "      <td>0</td>\n",
       "      <td>0</td>\n",
       "    </tr>\n",
       "    <tr>\n",
       "      <th>37313</th>\n",
       "      <td>1588</td>\n",
       "      <td>14</td>\n",
       "      <td>0</td>\n",
       "      <td>1</td>\n",
       "      <td>0</td>\n",
       "      <td>0</td>\n",
       "      <td>0</td>\n",
       "      <td>1</td>\n",
       "      <td>0</td>\n",
       "      <td>0</td>\n",
       "      <td>0</td>\n",
       "      <td>0</td>\n",
       "      <td>0</td>\n",
       "      <td>0</td>\n",
       "      <td>0</td>\n",
       "      <td>0</td>\n",
       "      <td>1</td>\n",
       "      <td>0</td>\n",
       "      <td>0</td>\n",
       "      <td>1</td>\n",
       "      <td>0</td>\n",
       "      <td>0</td>\n",
       "      <td>0</td>\n",
       "      <td>0</td>\n",
       "      <td>0</td>\n",
       "      <td>0</td>\n",
       "      <td>0</td>\n",
       "      <td>0</td>\n",
       "      <td>0</td>\n",
       "      <td>0</td>\n",
       "      <td>0</td>\n",
       "      <td>0</td>\n",
       "      <td>0</td>\n",
       "      <td>0</td>\n",
       "      <td>0</td>\n",
       "      <td>0</td>\n",
       "      <td>0</td>\n",
       "      <td>1</td>\n",
       "      <td>0</td>\n",
       "      <td>0</td>\n",
       "      <td>1</td>\n",
       "      <td>0</td>\n",
       "      <td>0</td>\n",
       "    </tr>\n",
       "    <tr>\n",
       "      <th>20930</th>\n",
       "      <td>1466</td>\n",
       "      <td>17</td>\n",
       "      <td>0</td>\n",
       "      <td>0</td>\n",
       "      <td>1</td>\n",
       "      <td>0</td>\n",
       "      <td>1</td>\n",
       "      <td>0</td>\n",
       "      <td>0</td>\n",
       "      <td>0</td>\n",
       "      <td>0</td>\n",
       "      <td>0</td>\n",
       "      <td>0</td>\n",
       "      <td>0</td>\n",
       "      <td>0</td>\n",
       "      <td>0</td>\n",
       "      <td>0</td>\n",
       "      <td>0</td>\n",
       "      <td>0</td>\n",
       "      <td>1</td>\n",
       "      <td>0</td>\n",
       "      <td>0</td>\n",
       "      <td>0</td>\n",
       "      <td>0</td>\n",
       "      <td>0</td>\n",
       "      <td>0</td>\n",
       "      <td>0</td>\n",
       "      <td>1</td>\n",
       "      <td>0</td>\n",
       "      <td>0</td>\n",
       "      <td>0</td>\n",
       "      <td>0</td>\n",
       "      <td>0</td>\n",
       "      <td>0</td>\n",
       "      <td>0</td>\n",
       "      <td>0</td>\n",
       "      <td>0</td>\n",
       "      <td>1</td>\n",
       "      <td>0</td>\n",
       "      <td>0</td>\n",
       "      <td>0</td>\n",
       "      <td>1</td>\n",
       "      <td>0</td>\n",
       "    </tr>\n",
       "    <tr>\n",
       "      <th>3639</th>\n",
       "      <td>1542</td>\n",
       "      <td>34</td>\n",
       "      <td>0</td>\n",
       "      <td>1</td>\n",
       "      <td>0</td>\n",
       "      <td>0</td>\n",
       "      <td>0</td>\n",
       "      <td>0</td>\n",
       "      <td>0</td>\n",
       "      <td>1</td>\n",
       "      <td>0</td>\n",
       "      <td>0</td>\n",
       "      <td>1</td>\n",
       "      <td>0</td>\n",
       "      <td>0</td>\n",
       "      <td>0</td>\n",
       "      <td>0</td>\n",
       "      <td>0</td>\n",
       "      <td>0</td>\n",
       "      <td>1</td>\n",
       "      <td>0</td>\n",
       "      <td>0</td>\n",
       "      <td>0</td>\n",
       "      <td>0</td>\n",
       "      <td>0</td>\n",
       "      <td>1</td>\n",
       "      <td>0</td>\n",
       "      <td>0</td>\n",
       "      <td>0</td>\n",
       "      <td>0</td>\n",
       "      <td>0</td>\n",
       "      <td>0</td>\n",
       "      <td>0</td>\n",
       "      <td>0</td>\n",
       "      <td>0</td>\n",
       "      <td>0</td>\n",
       "      <td>0</td>\n",
       "      <td>1</td>\n",
       "      <td>0</td>\n",
       "      <td>0</td>\n",
       "      <td>1</td>\n",
       "      <td>0</td>\n",
       "      <td>0</td>\n",
       "    </tr>\n",
       "  </tbody>\n",
       "</table>\n",
       "</div>"
      ],
      "text/plain": [
       "       gps_height  age  quantity_group_enough  quantity_group_insufficient  \\\n",
       "3488         1455   19                      0                            0   \n",
       "12678         229   17                      0                            1   \n",
       "37313        1588   14                      0                            1   \n",
       "20930        1466   17                      0                            0   \n",
       "3639         1542   34                      0                            1   \n",
       "\n",
       "       quantity_group_seasonal  quantity_group_unknown  \\\n",
       "3488                         1                       0   \n",
       "12678                        0                       0   \n",
       "37313                        0                       0   \n",
       "20930                        1                       0   \n",
       "3639                         0                       0   \n",
       "\n",
       "       waterpoint_type_communal standpipe  \\\n",
       "3488                                    0   \n",
       "12678                                   0   \n",
       "37313                                   0   \n",
       "20930                                   1   \n",
       "3639                                    0   \n",
       "\n",
       "       waterpoint_type_communal standpipe multiple  waterpoint_type_dam  \\\n",
       "3488                                             0                    0   \n",
       "12678                                            0                    0   \n",
       "37313                                            1                    0   \n",
       "20930                                            0                    0   \n",
       "3639                                             0                    0   \n",
       "\n",
       "       waterpoint_type_hand pump  waterpoint_type_improved spring  \\\n",
       "3488                           1                                0   \n",
       "12678                          1                                0   \n",
       "37313                          0                                0   \n",
       "20930                          0                                0   \n",
       "3639                           1                                0   \n",
       "\n",
       "       waterpoint_type_other  extraction_type_class_handpump  \\\n",
       "3488                       0                               1   \n",
       "12678                      0                               1   \n",
       "37313                      0                               0   \n",
       "20930                      0                               0   \n",
       "3639                       0                               1   \n",
       "\n",
       "       extraction_type_class_motorpump  extraction_type_class_other  \\\n",
       "3488                                 0                            0   \n",
       "12678                                0                            0   \n",
       "37313                                0                            0   \n",
       "20930                                0                            0   \n",
       "3639                                 0                            0   \n",
       "\n",
       "       extraction_type_class_rope pump  extraction_type_class_submersible  \\\n",
       "3488                                 0                                  0   \n",
       "12678                                0                                  0   \n",
       "37313                                0                                  1   \n",
       "20930                                0                                  0   \n",
       "3639                                 0                                  0   \n",
       "\n",
       "       extraction_type_class_wind-powered  quality_group_fluoride  \\\n",
       "3488                                    0                       0   \n",
       "12678                                   0                       0   \n",
       "37313                                   0                       0   \n",
       "20930                                   0                       0   \n",
       "3639                                    0                       0   \n",
       "\n",
       "       quality_group_good  quality_group_milky  quality_group_salty  \\\n",
       "3488                    1                    0                    0   \n",
       "12678                   1                    0                    0   \n",
       "37313                   1                    0                    0   \n",
       "20930                   1                    0                    0   \n",
       "3639                    1                    0                    0   \n",
       "\n",
       "       quality_group_unknown  source_hand dtw  source_lake  \\\n",
       "3488                       0                0            0   \n",
       "12678                      0                0            0   \n",
       "37313                      0                0            0   \n",
       "20930                      0                0            0   \n",
       "3639                       0                0            0   \n",
       "\n",
       "       source_machine dbh  source_other  source_rainwater harvesting  \\\n",
       "3488                    0             0                            0   \n",
       "12678                   0             0                            0   \n",
       "37313                   0             0                            0   \n",
       "20930                   0             0                            1   \n",
       "3639                    1             0                            0   \n",
       "\n",
       "       source_river  source_shallow well  source_spring  source_unknown  \\\n",
       "3488              0                    1              0               0   \n",
       "12678             0                    1              0               0   \n",
       "37313             0                    0              0               0   \n",
       "20930             0                    0              0               0   \n",
       "3639              0                    0              0               0   \n",
       "\n",
       "       water_quality_fluoride  water_quality_fluoride abandoned  \\\n",
       "3488                        0                                 0   \n",
       "12678                       0                                 0   \n",
       "37313                       0                                 0   \n",
       "20930                       0                                 0   \n",
       "3639                        0                                 0   \n",
       "\n",
       "       water_quality_milky  water_quality_salty  \\\n",
       "3488                     0                    0   \n",
       "12678                    0                    0   \n",
       "37313                    0                    0   \n",
       "20930                    0                    0   \n",
       "3639                     0                    0   \n",
       "\n",
       "       water_quality_salty abandoned  water_quality_soft  \\\n",
       "3488                               0                   1   \n",
       "12678                              0                   1   \n",
       "37313                              0                   1   \n",
       "20930                              0                   1   \n",
       "3639                               0                   1   \n",
       "\n",
       "       water_quality_unknown  quantity_enough  quantity_insufficient  \\\n",
       "3488                       0                0                      0   \n",
       "12678                      0                0                      1   \n",
       "37313                      0                0                      1   \n",
       "20930                      0                0                      0   \n",
       "3639                       0                0                      1   \n",
       "\n",
       "       quantity_seasonal  quantity_unknown  \n",
       "3488                   1                 0  \n",
       "12678                  0                 0  \n",
       "37313                  0                 0  \n",
       "20930                  1                 0  \n",
       "3639                   0                 0  "
      ]
     },
     "execution_count": 20,
     "metadata": {},
     "output_type": "execute_result"
    }
   ],
   "source": [
    "# previewing my new one hot encoded df\n",
    "X_train.head()"
   ]
  },
  {
   "cell_type": "code",
   "execution_count": 21,
   "metadata": {
    "scrolled": true
   },
   "outputs": [],
   "source": [
    "# Defining the columns to scale\n",
    "column_to_scale = ['gps_height']\n",
    "\n",
    "# Initialize the scaler\n",
    "scaler = MinMaxScaler()\n",
    "\n",
    "# Fit the scaler on the specified columns and transform the data\n",
    "X_train[column_to_scale] = scaler.fit_transform(X_train[column_to_scale])"
   ]
  },
  {
   "cell_type": "code",
   "execution_count": 22,
   "metadata": {
    "scrolled": true
   },
   "outputs": [
    {
     "data": {
      "text/html": [
       "<div>\n",
       "<style scoped>\n",
       "    .dataframe tbody tr th:only-of-type {\n",
       "        vertical-align: middle;\n",
       "    }\n",
       "\n",
       "    .dataframe tbody tr th {\n",
       "        vertical-align: top;\n",
       "    }\n",
       "\n",
       "    .dataframe thead th {\n",
       "        text-align: right;\n",
       "    }\n",
       "</style>\n",
       "<table border=\"1\" class=\"dataframe\">\n",
       "  <thead>\n",
       "    <tr style=\"text-align: right;\">\n",
       "      <th></th>\n",
       "      <th>gps_height</th>\n",
       "      <th>age</th>\n",
       "      <th>quantity_group_enough</th>\n",
       "      <th>quantity_group_insufficient</th>\n",
       "      <th>quantity_group_seasonal</th>\n",
       "      <th>quantity_group_unknown</th>\n",
       "      <th>waterpoint_type_communal standpipe</th>\n",
       "      <th>waterpoint_type_communal standpipe multiple</th>\n",
       "      <th>waterpoint_type_dam</th>\n",
       "      <th>waterpoint_type_hand pump</th>\n",
       "      <th>waterpoint_type_improved spring</th>\n",
       "      <th>waterpoint_type_other</th>\n",
       "      <th>extraction_type_class_handpump</th>\n",
       "      <th>extraction_type_class_motorpump</th>\n",
       "      <th>extraction_type_class_other</th>\n",
       "      <th>extraction_type_class_rope pump</th>\n",
       "      <th>extraction_type_class_submersible</th>\n",
       "      <th>extraction_type_class_wind-powered</th>\n",
       "      <th>quality_group_fluoride</th>\n",
       "      <th>quality_group_good</th>\n",
       "      <th>quality_group_milky</th>\n",
       "      <th>quality_group_salty</th>\n",
       "      <th>quality_group_unknown</th>\n",
       "      <th>source_hand dtw</th>\n",
       "      <th>source_lake</th>\n",
       "      <th>source_machine dbh</th>\n",
       "      <th>source_other</th>\n",
       "      <th>source_rainwater harvesting</th>\n",
       "      <th>source_river</th>\n",
       "      <th>source_shallow well</th>\n",
       "      <th>source_spring</th>\n",
       "      <th>source_unknown</th>\n",
       "      <th>water_quality_fluoride</th>\n",
       "      <th>water_quality_fluoride abandoned</th>\n",
       "      <th>water_quality_milky</th>\n",
       "      <th>water_quality_salty</th>\n",
       "      <th>water_quality_salty abandoned</th>\n",
       "      <th>water_quality_soft</th>\n",
       "      <th>water_quality_unknown</th>\n",
       "      <th>quantity_enough</th>\n",
       "      <th>quantity_insufficient</th>\n",
       "      <th>quantity_seasonal</th>\n",
       "      <th>quantity_unknown</th>\n",
       "    </tr>\n",
       "  </thead>\n",
       "  <tbody>\n",
       "    <tr>\n",
       "      <th>3488</th>\n",
       "      <td>0.535828</td>\n",
       "      <td>19</td>\n",
       "      <td>0</td>\n",
       "      <td>0</td>\n",
       "      <td>1</td>\n",
       "      <td>0</td>\n",
       "      <td>0</td>\n",
       "      <td>0</td>\n",
       "      <td>0</td>\n",
       "      <td>1</td>\n",
       "      <td>0</td>\n",
       "      <td>0</td>\n",
       "      <td>1</td>\n",
       "      <td>0</td>\n",
       "      <td>0</td>\n",
       "      <td>0</td>\n",
       "      <td>0</td>\n",
       "      <td>0</td>\n",
       "      <td>0</td>\n",
       "      <td>1</td>\n",
       "      <td>0</td>\n",
       "      <td>0</td>\n",
       "      <td>0</td>\n",
       "      <td>0</td>\n",
       "      <td>0</td>\n",
       "      <td>0</td>\n",
       "      <td>0</td>\n",
       "      <td>0</td>\n",
       "      <td>0</td>\n",
       "      <td>1</td>\n",
       "      <td>0</td>\n",
       "      <td>0</td>\n",
       "      <td>0</td>\n",
       "      <td>0</td>\n",
       "      <td>0</td>\n",
       "      <td>0</td>\n",
       "      <td>0</td>\n",
       "      <td>1</td>\n",
       "      <td>0</td>\n",
       "      <td>0</td>\n",
       "      <td>0</td>\n",
       "      <td>1</td>\n",
       "      <td>0</td>\n",
       "    </tr>\n",
       "    <tr>\n",
       "      <th>12678</th>\n",
       "      <td>0.103071</td>\n",
       "      <td>17</td>\n",
       "      <td>0</td>\n",
       "      <td>1</td>\n",
       "      <td>0</td>\n",
       "      <td>0</td>\n",
       "      <td>0</td>\n",
       "      <td>0</td>\n",
       "      <td>0</td>\n",
       "      <td>1</td>\n",
       "      <td>0</td>\n",
       "      <td>0</td>\n",
       "      <td>1</td>\n",
       "      <td>0</td>\n",
       "      <td>0</td>\n",
       "      <td>0</td>\n",
       "      <td>0</td>\n",
       "      <td>0</td>\n",
       "      <td>0</td>\n",
       "      <td>1</td>\n",
       "      <td>0</td>\n",
       "      <td>0</td>\n",
       "      <td>0</td>\n",
       "      <td>0</td>\n",
       "      <td>0</td>\n",
       "      <td>0</td>\n",
       "      <td>0</td>\n",
       "      <td>0</td>\n",
       "      <td>0</td>\n",
       "      <td>1</td>\n",
       "      <td>0</td>\n",
       "      <td>0</td>\n",
       "      <td>0</td>\n",
       "      <td>0</td>\n",
       "      <td>0</td>\n",
       "      <td>0</td>\n",
       "      <td>0</td>\n",
       "      <td>1</td>\n",
       "      <td>0</td>\n",
       "      <td>0</td>\n",
       "      <td>1</td>\n",
       "      <td>0</td>\n",
       "      <td>0</td>\n",
       "    </tr>\n",
       "    <tr>\n",
       "      <th>37313</th>\n",
       "      <td>0.582774</td>\n",
       "      <td>14</td>\n",
       "      <td>0</td>\n",
       "      <td>1</td>\n",
       "      <td>0</td>\n",
       "      <td>0</td>\n",
       "      <td>0</td>\n",
       "      <td>1</td>\n",
       "      <td>0</td>\n",
       "      <td>0</td>\n",
       "      <td>0</td>\n",
       "      <td>0</td>\n",
       "      <td>0</td>\n",
       "      <td>0</td>\n",
       "      <td>0</td>\n",
       "      <td>0</td>\n",
       "      <td>1</td>\n",
       "      <td>0</td>\n",
       "      <td>0</td>\n",
       "      <td>1</td>\n",
       "      <td>0</td>\n",
       "      <td>0</td>\n",
       "      <td>0</td>\n",
       "      <td>0</td>\n",
       "      <td>0</td>\n",
       "      <td>0</td>\n",
       "      <td>0</td>\n",
       "      <td>0</td>\n",
       "      <td>0</td>\n",
       "      <td>0</td>\n",
       "      <td>0</td>\n",
       "      <td>0</td>\n",
       "      <td>0</td>\n",
       "      <td>0</td>\n",
       "      <td>0</td>\n",
       "      <td>0</td>\n",
       "      <td>0</td>\n",
       "      <td>1</td>\n",
       "      <td>0</td>\n",
       "      <td>0</td>\n",
       "      <td>1</td>\n",
       "      <td>0</td>\n",
       "      <td>0</td>\n",
       "    </tr>\n",
       "    <tr>\n",
       "      <th>20930</th>\n",
       "      <td>0.539711</td>\n",
       "      <td>17</td>\n",
       "      <td>0</td>\n",
       "      <td>0</td>\n",
       "      <td>1</td>\n",
       "      <td>0</td>\n",
       "      <td>1</td>\n",
       "      <td>0</td>\n",
       "      <td>0</td>\n",
       "      <td>0</td>\n",
       "      <td>0</td>\n",
       "      <td>0</td>\n",
       "      <td>0</td>\n",
       "      <td>0</td>\n",
       "      <td>0</td>\n",
       "      <td>0</td>\n",
       "      <td>0</td>\n",
       "      <td>0</td>\n",
       "      <td>0</td>\n",
       "      <td>1</td>\n",
       "      <td>0</td>\n",
       "      <td>0</td>\n",
       "      <td>0</td>\n",
       "      <td>0</td>\n",
       "      <td>0</td>\n",
       "      <td>0</td>\n",
       "      <td>0</td>\n",
       "      <td>1</td>\n",
       "      <td>0</td>\n",
       "      <td>0</td>\n",
       "      <td>0</td>\n",
       "      <td>0</td>\n",
       "      <td>0</td>\n",
       "      <td>0</td>\n",
       "      <td>0</td>\n",
       "      <td>0</td>\n",
       "      <td>0</td>\n",
       "      <td>1</td>\n",
       "      <td>0</td>\n",
       "      <td>0</td>\n",
       "      <td>0</td>\n",
       "      <td>1</td>\n",
       "      <td>0</td>\n",
       "    </tr>\n",
       "    <tr>\n",
       "      <th>3639</th>\n",
       "      <td>0.566537</td>\n",
       "      <td>34</td>\n",
       "      <td>0</td>\n",
       "      <td>1</td>\n",
       "      <td>0</td>\n",
       "      <td>0</td>\n",
       "      <td>0</td>\n",
       "      <td>0</td>\n",
       "      <td>0</td>\n",
       "      <td>1</td>\n",
       "      <td>0</td>\n",
       "      <td>0</td>\n",
       "      <td>1</td>\n",
       "      <td>0</td>\n",
       "      <td>0</td>\n",
       "      <td>0</td>\n",
       "      <td>0</td>\n",
       "      <td>0</td>\n",
       "      <td>0</td>\n",
       "      <td>1</td>\n",
       "      <td>0</td>\n",
       "      <td>0</td>\n",
       "      <td>0</td>\n",
       "      <td>0</td>\n",
       "      <td>0</td>\n",
       "      <td>1</td>\n",
       "      <td>0</td>\n",
       "      <td>0</td>\n",
       "      <td>0</td>\n",
       "      <td>0</td>\n",
       "      <td>0</td>\n",
       "      <td>0</td>\n",
       "      <td>0</td>\n",
       "      <td>0</td>\n",
       "      <td>0</td>\n",
       "      <td>0</td>\n",
       "      <td>0</td>\n",
       "      <td>1</td>\n",
       "      <td>0</td>\n",
       "      <td>0</td>\n",
       "      <td>1</td>\n",
       "      <td>0</td>\n",
       "      <td>0</td>\n",
       "    </tr>\n",
       "  </tbody>\n",
       "</table>\n",
       "</div>"
      ],
      "text/plain": [
       "       gps_height  age  quantity_group_enough  quantity_group_insufficient  \\\n",
       "3488     0.535828   19                      0                            0   \n",
       "12678    0.103071   17                      0                            1   \n",
       "37313    0.582774   14                      0                            1   \n",
       "20930    0.539711   17                      0                            0   \n",
       "3639     0.566537   34                      0                            1   \n",
       "\n",
       "       quantity_group_seasonal  quantity_group_unknown  \\\n",
       "3488                         1                       0   \n",
       "12678                        0                       0   \n",
       "37313                        0                       0   \n",
       "20930                        1                       0   \n",
       "3639                         0                       0   \n",
       "\n",
       "       waterpoint_type_communal standpipe  \\\n",
       "3488                                    0   \n",
       "12678                                   0   \n",
       "37313                                   0   \n",
       "20930                                   1   \n",
       "3639                                    0   \n",
       "\n",
       "       waterpoint_type_communal standpipe multiple  waterpoint_type_dam  \\\n",
       "3488                                             0                    0   \n",
       "12678                                            0                    0   \n",
       "37313                                            1                    0   \n",
       "20930                                            0                    0   \n",
       "3639                                             0                    0   \n",
       "\n",
       "       waterpoint_type_hand pump  waterpoint_type_improved spring  \\\n",
       "3488                           1                                0   \n",
       "12678                          1                                0   \n",
       "37313                          0                                0   \n",
       "20930                          0                                0   \n",
       "3639                           1                                0   \n",
       "\n",
       "       waterpoint_type_other  extraction_type_class_handpump  \\\n",
       "3488                       0                               1   \n",
       "12678                      0                               1   \n",
       "37313                      0                               0   \n",
       "20930                      0                               0   \n",
       "3639                       0                               1   \n",
       "\n",
       "       extraction_type_class_motorpump  extraction_type_class_other  \\\n",
       "3488                                 0                            0   \n",
       "12678                                0                            0   \n",
       "37313                                0                            0   \n",
       "20930                                0                            0   \n",
       "3639                                 0                            0   \n",
       "\n",
       "       extraction_type_class_rope pump  extraction_type_class_submersible  \\\n",
       "3488                                 0                                  0   \n",
       "12678                                0                                  0   \n",
       "37313                                0                                  1   \n",
       "20930                                0                                  0   \n",
       "3639                                 0                                  0   \n",
       "\n",
       "       extraction_type_class_wind-powered  quality_group_fluoride  \\\n",
       "3488                                    0                       0   \n",
       "12678                                   0                       0   \n",
       "37313                                   0                       0   \n",
       "20930                                   0                       0   \n",
       "3639                                    0                       0   \n",
       "\n",
       "       quality_group_good  quality_group_milky  quality_group_salty  \\\n",
       "3488                    1                    0                    0   \n",
       "12678                   1                    0                    0   \n",
       "37313                   1                    0                    0   \n",
       "20930                   1                    0                    0   \n",
       "3639                    1                    0                    0   \n",
       "\n",
       "       quality_group_unknown  source_hand dtw  source_lake  \\\n",
       "3488                       0                0            0   \n",
       "12678                      0                0            0   \n",
       "37313                      0                0            0   \n",
       "20930                      0                0            0   \n",
       "3639                       0                0            0   \n",
       "\n",
       "       source_machine dbh  source_other  source_rainwater harvesting  \\\n",
       "3488                    0             0                            0   \n",
       "12678                   0             0                            0   \n",
       "37313                   0             0                            0   \n",
       "20930                   0             0                            1   \n",
       "3639                    1             0                            0   \n",
       "\n",
       "       source_river  source_shallow well  source_spring  source_unknown  \\\n",
       "3488              0                    1              0               0   \n",
       "12678             0                    1              0               0   \n",
       "37313             0                    0              0               0   \n",
       "20930             0                    0              0               0   \n",
       "3639              0                    0              0               0   \n",
       "\n",
       "       water_quality_fluoride  water_quality_fluoride abandoned  \\\n",
       "3488                        0                                 0   \n",
       "12678                       0                                 0   \n",
       "37313                       0                                 0   \n",
       "20930                       0                                 0   \n",
       "3639                        0                                 0   \n",
       "\n",
       "       water_quality_milky  water_quality_salty  \\\n",
       "3488                     0                    0   \n",
       "12678                    0                    0   \n",
       "37313                    0                    0   \n",
       "20930                    0                    0   \n",
       "3639                     0                    0   \n",
       "\n",
       "       water_quality_salty abandoned  water_quality_soft  \\\n",
       "3488                               0                   1   \n",
       "12678                              0                   1   \n",
       "37313                              0                   1   \n",
       "20930                              0                   1   \n",
       "3639                               0                   1   \n",
       "\n",
       "       water_quality_unknown  quantity_enough  quantity_insufficient  \\\n",
       "3488                       0                0                      0   \n",
       "12678                      0                0                      1   \n",
       "37313                      0                0                      1   \n",
       "20930                      0                0                      0   \n",
       "3639                       0                0                      1   \n",
       "\n",
       "       quantity_seasonal  quantity_unknown  \n",
       "3488                   1                 0  \n",
       "12678                  0                 0  \n",
       "37313                  0                 0  \n",
       "20930                  1                 0  \n",
       "3639                   0                 0  "
      ]
     },
     "execution_count": 22,
     "metadata": {},
     "output_type": "execute_result"
    }
   ],
   "source": [
    "# Inspecting the data to make sure it was scaled\n",
    "X_train.head()"
   ]
  },
  {
   "cell_type": "markdown",
   "metadata": {},
   "source": [
    "I wanted to create a visual of how many wells needed repair at different altitudes."
   ]
  },
  {
   "cell_type": "code",
   "execution_count": 23,
   "metadata": {
    "scrolled": true
   },
   "outputs": [
    {
     "data": {
      "image/png": "[encoded data removed]",
      "text/plain": [
       "<Figure size 432x288 with 1 Axes>"
      ]
     },
     "metadata": {
      "needs_background": "light"
     },
     "output_type": "display_data"
    }
   ],
   "source": [
    "# Filtering the data based on 'needs_repair'\n",
    "needs_repair_histogram = Construction_Year_df[Construction_Year_df['needs_repair'] == 1]['gps_height']\n",
    "\n",
    "#plotting a histogram\n",
    "plt.hist(needs_repair_histogram, bins=75, color='blue', alpha=0.5)\n",
    "plt.xlabel('GPS Height')\n",
    "plt.ylabel('Frequency')\n",
    "plt.title('Histogram of GPS Height for Needs Repair')\n",
    "plt.show()"
   ]
  },
  {
   "cell_type": "markdown",
   "metadata": {},
   "source": [
    "Next I wanted to see the total number of wells at each altitude."
   ]
  },
  {
   "cell_type": "code",
   "execution_count": 24,
   "metadata": {},
   "outputs": [
    {
     "data": {
      "image/png": "[encoded data removed]",
      "text/plain": [
       "<Figure size 720x432 with 1 Axes>"
      ]
     },
     "metadata": {
      "needs_background": "light"
     },
     "output_type": "display_data"
    }
   ],
   "source": [
    "# Create a histogram\n",
    "plt.figure(figsize=(10, 6))\n",
    "plt.hist(Construction_Year_df['gps_height'], bins=75, color='skyblue', edgecolor='black')\n",
    "\n",
    "# Customize the plot\n",
    "plt.title('Histogram of Wells at Each Altitude')\n",
    "plt.xlabel('Altitude (gps_height)')\n",
    "plt.ylabel('Number of Wells')\n",
    "plt.grid(axis='y', alpha=0.75)\n",
    "\n",
    "# Show the plot\n",
    "plt.show()"
   ]
  },
  {
   "cell_type": "markdown",
   "metadata": {},
   "source": [
    "Finally I wanted to create a visual for the ratio of wells that need repair to the total number of wells at each altitude."
   ]
  },
  {
   "cell_type": "code",
   "execution_count": 70,
   "metadata": {},
   "outputs": [
    {
     "data": {
      "image/png": "[encoded data removed]",
      "text/plain": [
       "<Figure size 720x432 with 1 Axes>"
      ]
     },
     "metadata": {},
     "output_type": "display_data"
    }
   ],
   "source": [
    "# Create a histogram for 'gps_height' for all wells\n",
    "all_histogram, bin_edges_all = np.histogram(Construction_Year_df['gps_height'], bins=75)\n",
    "\n",
    "# Create a histogram for 'gps_height' for wells that need repair\n",
    "needs_repair_histogram, bin_edges_needs_repair = np.histogram(\n",
    "    Construction_Year_df[Construction_Year_df['needs_repair'] == 1]['gps_height'], bins=75)\n",
    "\n",
    "# Calculate the ratios\n",
    "ratios = needs_repair_histogram / all_histogram.astype(float)\n",
    "\n",
    "# Calculate the bin centers\n",
    "bin_centers = (bin_edges_all[:-1] + bin_edges_all[1:]) / 2\n",
    "\n",
    "# Plot the ratios\n",
    "plt.figure(figsize=(10, 6))\n",
    "plt.plot(bin_centers, ratios, color='orange', marker='o')\n",
    "\n",
    "# Customize the plot\n",
    "plt.title('Ratios of Wells that Need Repair to All Wells at Each Altitude')\n",
    "plt.xlabel('Altitude (gps_height) in feet')\n",
    "plt.ylabel('Ratio')\n",
    "plt.grid(axis='y', alpha=0.75)\n",
    "\n",
    "# Show the plot\n",
    "plt.show()"
   ]
  },
  {
   "cell_type": "markdown",
   "metadata": {},
   "source": [
    "The above graph shows the relationship is generally negative. As altitude increases the repair ratio decreases. However around the 2,400 ft mark the relationship turns generally positive and repair ratio starts to increase."
   ]
  },
  {
   "cell_type": "markdown",
   "metadata": {},
   "source": [
    "Next I wanted to get some visuals related to 'age' and 'repairs'."
   ]
  },
  {
   "cell_type": "code",
   "execution_count": 26,
   "metadata": {},
   "outputs": [
    {
     "data": {
      "image/png": "[encoded data removed]",
      "text/plain": [
       "<Figure size 720x432 with 1 Axes>"
      ]
     },
     "metadata": {
      "needs_background": "light"
     },
     "output_type": "display_data"
    }
   ],
   "source": [
    "# Filtering data for wells that need repair and those that don't\n",
    "needs_repair_age = Construction_Year_df[Construction_Year_df['needs_repair'] == 1]['age']\n",
    "\n",
    "# Create histograms for age of wells\n",
    "plt.figure(figsize=(10, 6))\n",
    "plt.hist(needs_repair_age, bins=30, alpha=0.5, color='red', label='Needs Repair')\n",
    "\n",
    "# Customize the plot\n",
    "plt.title('Histogram of Well Age by Repair Status')\n",
    "plt.xlabel('Age')\n",
    "plt.ylabel('Number of Wells')\n",
    "plt.legend()\n",
    "plt.grid(axis='y', alpha=0.75)\n",
    "\n",
    "# Show the plot\n",
    "plt.show()"
   ]
  },
  {
   "cell_type": "code",
   "execution_count": 27,
   "metadata": {},
   "outputs": [
    {
     "data": {
      "image/png": "[encoded data removed]",
      "text/plain": [
       "<Figure size 720x432 with 1 Axes>"
      ]
     },
     "metadata": {
      "needs_background": "light"
     },
     "output_type": "display_data"
    }
   ],
   "source": [
    "# Create a histogram\n",
    "plt.figure(figsize=(10, 6))\n",
    "plt.hist(Construction_Year_df['age'], bins=75, color='skyblue', edgecolor='black')\n",
    "\n",
    "# Customize the plot\n",
    "plt.title('Histogram of Wells at Each Age')\n",
    "plt.xlabel('Age (age)')\n",
    "plt.ylabel('Number of Wells')\n",
    "plt.grid(axis='y', alpha=0.75)\n",
    "\n",
    "# Show the plot\n",
    "plt.show()"
   ]
  },
  {
   "cell_type": "markdown",
   "metadata": {},
   "source": [
    "I typed `calculating the bin centers in python` into google and found this [solution](https://stackoverflow.com/questions/72688853/get-center-of-bins-histograms-python)"
   ]
  },
  {
   "cell_type": "code",
   "execution_count": 28,
   "metadata": {},
   "outputs": [
    {
     "data": {
      "image/png": "[encoded data removed]",
      "text/plain": [
       "<Figure size 720x432 with 1 Axes>"
      ]
     },
     "metadata": {
      "needs_background": "light"
     },
     "output_type": "display_data"
    }
   ],
   "source": [
    "# Create a histogram for 'age' for all wells\n",
    "all_histogram_age, bin_edges_all = np.histogram(Construction_Year_df['age'], bins=75)\n",
    "\n",
    "# Create a histogram for 'gps_height' for wells that need repair\n",
    "needs_repair_histo, bin_edges_needs_repair = np.histogram(\n",
    "    Construction_Year_df[Construction_Year_df['needs_repair'] == 1]['age'], bins=75)\n",
    "\n",
    "# Calculate the ratios\n",
    "ratios = needs_repair_histo / all_histogram_age.astype(float)\n",
    "\n",
    "# Calculate the bin centers\n",
    "bin_centers = (bin_edges_all[:-1] + bin_edges_all[1:]) / 2\n",
    "\n",
    "# Plot the ratios\n",
    "plt.figure(figsize=(10, 6))\n",
    "plt.plot(bin_centers, ratios, color='orange', marker='o')\n",
    "\n",
    "# Customize the plot\n",
    "plt.title('Ratios of Wells that Need Repair to Wells at Each Age')\n",
    "plt.xlabel('Age (age) in years')\n",
    "plt.ylabel('Ratio')\n",
    "plt.grid(axis='y', alpha=0.75)\n",
    "\n",
    "# Show the plot\n",
    "plt.show()"
   ]
  },
  {
   "cell_type": "markdown",
   "metadata": {},
   "source": [
    "# Modeling"
   ]
  },
  {
   "cell_type": "code",
   "execution_count": 29,
   "metadata": {},
   "outputs": [
    {
     "data": {
      "text/html": [
       "<style>#sk-container-id-1 {color: black;}#sk-container-id-1 pre{padding: 0;}#sk-container-id-1 div.sk-toggleable {background-color: white;}#sk-container-id-1 label.sk-toggleable__label {cursor: pointer;display: block;width: 100%;margin-bottom: 0;padding: 0.3em;box-sizing: border-box;text-align: center;}#sk-container-id-1 label.sk-toggleable__label-arrow:before {content: \"▸\";float: left;margin-right: 0.25em;color: #696969;}#sk-container-id-1 label.sk-toggleable__label-arrow:hover:before {color: black;}#sk-container-id-1 div.sk-estimator:hover label.sk-toggleable__label-arrow:before {color: black;}#sk-container-id-1 div.sk-toggleable__content {max-height: 0;max-width: 0;overflow: hidden;text-align: left;background-color: #f0f8ff;}#sk-container-id-1 div.sk-toggleable__content pre {margin: 0.2em;color: black;border-radius: 0.25em;background-color: #f0f8ff;}#sk-container-id-1 input.sk-toggleable__control:checked~div.sk-toggleable__content {max-height: 200px;max-width: 100%;overflow: auto;}#sk-container-id-1 input.sk-toggleable__control:checked~label.sk-toggleable__label-arrow:before {content: \"▾\";}#sk-container-id-1 div.sk-estimator input.sk-toggleable__control:checked~label.sk-toggleable__label {background-color: #d4ebff;}#sk-container-id-1 div.sk-label input.sk-toggleable__control:checked~label.sk-toggleable__label {background-color: #d4ebff;}#sk-container-id-1 input.sk-hidden--visually {border: 0;clip: rect(1px 1px 1px 1px);clip: rect(1px, 1px, 1px, 1px);height: 1px;margin: -1px;overflow: hidden;padding: 0;position: absolute;width: 1px;}#sk-container-id-1 div.sk-estimator {font-family: monospace;background-color: #f0f8ff;border: 1px dotted black;border-radius: 0.25em;box-sizing: border-box;margin-bottom: 0.5em;}#sk-container-id-1 div.sk-estimator:hover {background-color: #d4ebff;}#sk-container-id-1 div.sk-parallel-item::after {content: \"\";width: 100%;border-bottom: 1px solid gray;flex-grow: 1;}#sk-container-id-1 div.sk-label:hover label.sk-toggleable__label {background-color: #d4ebff;}#sk-container-id-1 div.sk-serial::before {content: \"\";position: absolute;border-left: 1px solid gray;box-sizing: border-box;top: 0;bottom: 0;left: 50%;z-index: 0;}#sk-container-id-1 div.sk-serial {display: flex;flex-direction: column;align-items: center;background-color: white;padding-right: 0.2em;padding-left: 0.2em;position: relative;}#sk-container-id-1 div.sk-item {position: relative;z-index: 1;}#sk-container-id-1 div.sk-parallel {display: flex;align-items: stretch;justify-content: center;background-color: white;position: relative;}#sk-container-id-1 div.sk-item::before, #sk-container-id-1 div.sk-parallel-item::before {content: \"\";position: absolute;border-left: 1px solid gray;box-sizing: border-box;top: 0;bottom: 0;left: 50%;z-index: -1;}#sk-container-id-1 div.sk-parallel-item {display: flex;flex-direction: column;z-index: 1;position: relative;background-color: white;}#sk-container-id-1 div.sk-parallel-item:first-child::after {align-self: flex-end;width: 50%;}#sk-container-id-1 div.sk-parallel-item:last-child::after {align-self: flex-start;width: 50%;}#sk-container-id-1 div.sk-parallel-item:only-child::after {width: 0;}#sk-container-id-1 div.sk-dashed-wrapped {border: 1px dashed gray;margin: 0 0.4em 0.5em 0.4em;box-sizing: border-box;padding-bottom: 0.4em;background-color: white;}#sk-container-id-1 div.sk-label label {font-family: monospace;font-weight: bold;display: inline-block;line-height: 1.2em;}#sk-container-id-1 div.sk-label-container {text-align: center;}#sk-container-id-1 div.sk-container {/* jupyter's `normalize.less` sets `[hidden] { display: none; }` but bootstrap.min.css set `[hidden] { display: none !important; }` so we also need the `!important` here to be able to override the default hidden behavior on the sphinx rendered scikit-learn.org. See: https://github.com/scikit-learn/scikit-learn/issues/21755 */display: inline-block !important;position: relative;}#sk-container-id-1 div.sk-text-repr-fallback {display: none;}</style><div id=\"sk-container-id-1\" class=\"sk-top-container\"><div class=\"sk-text-repr-fallback\"><pre>LogisticRegression(C=1000000000000.0, fit_intercept=False, solver=&#x27;liblinear&#x27;)</pre><b>In a Jupyter environment, please rerun this cell to show the HTML representation or trust the notebook. <br />On GitHub, the HTML representation is unable to render, please try loading this page with nbviewer.org.</b></div><div class=\"sk-container\" hidden><div class=\"sk-item\"><div class=\"sk-estimator sk-toggleable\"><input class=\"sk-toggleable__control sk-hidden--visually\" id=\"sk-estimator-id-1\" type=\"checkbox\" checked><label for=\"sk-estimator-id-1\" class=\"sk-toggleable__label sk-toggleable__label-arrow\">LogisticRegression</label><div class=\"sk-toggleable__content\"><pre>LogisticRegression(C=1000000000000.0, fit_intercept=False, solver=&#x27;liblinear&#x27;)</pre></div></div></div></div></div>"
      ],
      "text/plain": [
       "LogisticRegression(C=1000000000000.0, fit_intercept=False, solver='liblinear')"
      ]
     },
     "execution_count": 29,
     "metadata": {},
     "output_type": "execute_result"
    }
   ],
   "source": [
    "# Building a logistic regression model\n",
    "logreg = LogisticRegression(fit_intercept=False, C=1e12, solver='liblinear')\n",
    "model_log = logreg.fit(X_train, y_train)\n",
    "model_log"
   ]
  },
  {
   "cell_type": "markdown",
   "metadata": {},
   "source": [
    "The classifier was about 74% accurate on the training data."
   ]
  },
  {
   "cell_type": "code",
   "execution_count": 30,
   "metadata": {},
   "outputs": [
    {
     "name": "stdout",
     "output_type": "stream",
     "text": [
      "0    22982\n",
      "1     7970\n",
      "Name: Residuals (counts), dtype: int64\n",
      "\n",
      "0    0.742505\n",
      "1    0.257495\n",
      "Name: Residuals (proportions), dtype: float64\n"
     ]
    }
   ],
   "source": [
    "# Checking the performance on the training data\n",
    "y_hat_train = logreg.predict(X_train)\n",
    "\n",
    "train_residuals = np.abs(y_train - y_hat_train)\n",
    "print(pd.Series(train_residuals, name=\"Residuals (counts)\").value_counts())\n",
    "print()\n",
    "print(pd.Series(train_residuals, name=\"Residuals (proportions)\").value_counts(normalize=True))"
   ]
  },
  {
   "cell_type": "code",
   "execution_count": 31,
   "metadata": {},
   "outputs": [
    {
     "data": {
      "text/plain": [
       "gps_height               0\n",
       "extraction_type_class    0\n",
       "water_quality            0\n",
       "quality_group            0\n",
       "quantity                 0\n",
       "quantity_group           0\n",
       "source                   0\n",
       "waterpoint_type          0\n",
       "age                      0\n",
       "dtype: int64"
      ]
     },
     "execution_count": 31,
     "metadata": {},
     "output_type": "execute_result"
    }
   ],
   "source": [
    "# Looking at the number of missing values in each column\n",
    "X_test.isna().sum()"
   ]
  },
  {
   "cell_type": "code",
   "execution_count": 32,
   "metadata": {},
   "outputs": [],
   "source": [
    "# Create a list of all the categorical features\n",
    "cols_to_transform = ['quantity_group', 'waterpoint_type','extraction_type_class',\n",
    "                     'quality_group', 'source',\n",
    "                     'water_quality', 'quantity']\n",
    "# Create a dataframe with the new dummy columns created from the cols_to_transform list\n",
    "X_test = pd.get_dummies(\n",
    "    data=X_test, columns=cols_to_transform, drop_first=True, dtype=int)"
   ]
  },
  {
   "cell_type": "code",
   "execution_count": 33,
   "metadata": {},
   "outputs": [],
   "source": [
    "# Fit the scaler on the specified columns and transform the data\n",
    "X_test[column_to_scale] = scaler.fit_transform(X_test[column_to_scale])"
   ]
  },
  {
   "cell_type": "code",
   "execution_count": 34,
   "metadata": {},
   "outputs": [
    {
     "data": {
      "text/plain": [
       "0.737175345651893"
      ]
     },
     "execution_count": 34,
     "metadata": {},
     "output_type": "execute_result"
    }
   ],
   "source": [
    "logreg.score(X_test, y_test)"
   ]
  },
  {
   "cell_type": "markdown",
   "metadata": {},
   "source": [
    "We are still about 74% accuarate on our test data."
   ]
  },
  {
   "cell_type": "code",
   "execution_count": 35,
   "metadata": {},
   "outputs": [
    {
     "name": "stdout",
     "output_type": "stream",
     "text": [
      "0    5705\n",
      "1    2034\n",
      "Name: Residuals (counts), dtype: int64\n",
      "\n",
      "0    0.737175\n",
      "1    0.262825\n",
      "Name: Residuals (proportions), dtype: float64\n"
     ]
    }
   ],
   "source": [
    "y_hat_test = logreg.predict(X_test)\n",
    "\n",
    "test_residuals = np.abs(y_test - y_hat_test)\n",
    "print(pd.Series(test_residuals, name=\"Residuals (counts)\").value_counts())\n",
    "print()\n",
    "print(pd.Series(test_residuals, name=\"Residuals (proportions)\").value_counts(normalize=True))"
   ]
  },
  {
   "cell_type": "code",
   "execution_count": 36,
   "metadata": {},
   "outputs": [],
   "source": [
    "cvscore = cross_val_score(logreg, X_train, y_train.values, cv=10)"
   ]
  },
  {
   "cell_type": "code",
   "execution_count": 37,
   "metadata": {},
   "outputs": [
    {
     "data": {
      "text/plain": [
       "array([0.74031008, 0.74903101, 0.7450727 , 0.72471729, 0.74087237,\n",
       "       0.74894992, 0.73893376, 0.74216478, 0.74927302, 0.7457189 ])"
      ]
     },
     "execution_count": 37,
     "metadata": {},
     "output_type": "execute_result"
    }
   ],
   "source": [
    "cvscore"
   ]
  },
  {
   "cell_type": "code",
   "execution_count": 38,
   "metadata": {},
   "outputs": [
    {
     "data": {
      "text/plain": [
       "0.7425043831636422"
      ]
     },
     "execution_count": 38,
     "metadata": {},
     "output_type": "execute_result"
    }
   ],
   "source": [
    "np.average(cvscore)"
   ]
  },
  {
   "cell_type": "code",
   "execution_count": 39,
   "metadata": {},
   "outputs": [
    {
     "data": {
      "text/plain": [
       "0.006954203732412136"
      ]
     },
     "execution_count": 39,
     "metadata": {},
     "output_type": "execute_result"
    }
   ],
   "source": [
    "np.std(cvscore)"
   ]
  },
  {
   "cell_type": "markdown",
   "metadata": {},
   "source": [
    "Building a single decision tree"
   ]
  },
  {
   "cell_type": "code",
   "execution_count": 40,
   "metadata": {},
   "outputs": [
    {
     "data": {
      "text/html": [
       "<style>#sk-container-id-2 {color: black;}#sk-container-id-2 pre{padding: 0;}#sk-container-id-2 div.sk-toggleable {background-color: white;}#sk-container-id-2 label.sk-toggleable__label {cursor: pointer;display: block;width: 100%;margin-bottom: 0;padding: 0.3em;box-sizing: border-box;text-align: center;}#sk-container-id-2 label.sk-toggleable__label-arrow:before {content: \"▸\";float: left;margin-right: 0.25em;color: #696969;}#sk-container-id-2 label.sk-toggleable__label-arrow:hover:before {color: black;}#sk-container-id-2 div.sk-estimator:hover label.sk-toggleable__label-arrow:before {color: black;}#sk-container-id-2 div.sk-toggleable__content {max-height: 0;max-width: 0;overflow: hidden;text-align: left;background-color: #f0f8ff;}#sk-container-id-2 div.sk-toggleable__content pre {margin: 0.2em;color: black;border-radius: 0.25em;background-color: #f0f8ff;}#sk-container-id-2 input.sk-toggleable__control:checked~div.sk-toggleable__content {max-height: 200px;max-width: 100%;overflow: auto;}#sk-container-id-2 input.sk-toggleable__control:checked~label.sk-toggleable__label-arrow:before {content: \"▾\";}#sk-container-id-2 div.sk-estimator input.sk-toggleable__control:checked~label.sk-toggleable__label {background-color: #d4ebff;}#sk-container-id-2 div.sk-label input.sk-toggleable__control:checked~label.sk-toggleable__label {background-color: #d4ebff;}#sk-container-id-2 input.sk-hidden--visually {border: 0;clip: rect(1px 1px 1px 1px);clip: rect(1px, 1px, 1px, 1px);height: 1px;margin: -1px;overflow: hidden;padding: 0;position: absolute;width: 1px;}#sk-container-id-2 div.sk-estimator {font-family: monospace;background-color: #f0f8ff;border: 1px dotted black;border-radius: 0.25em;box-sizing: border-box;margin-bottom: 0.5em;}#sk-container-id-2 div.sk-estimator:hover {background-color: #d4ebff;}#sk-container-id-2 div.sk-parallel-item::after {content: \"\";width: 100%;border-bottom: 1px solid gray;flex-grow: 1;}#sk-container-id-2 div.sk-label:hover label.sk-toggleable__label {background-color: #d4ebff;}#sk-container-id-2 div.sk-serial::before {content: \"\";position: absolute;border-left: 1px solid gray;box-sizing: border-box;top: 0;bottom: 0;left: 50%;z-index: 0;}#sk-container-id-2 div.sk-serial {display: flex;flex-direction: column;align-items: center;background-color: white;padding-right: 0.2em;padding-left: 0.2em;position: relative;}#sk-container-id-2 div.sk-item {position: relative;z-index: 1;}#sk-container-id-2 div.sk-parallel {display: flex;align-items: stretch;justify-content: center;background-color: white;position: relative;}#sk-container-id-2 div.sk-item::before, #sk-container-id-2 div.sk-parallel-item::before {content: \"\";position: absolute;border-left: 1px solid gray;box-sizing: border-box;top: 0;bottom: 0;left: 50%;z-index: -1;}#sk-container-id-2 div.sk-parallel-item {display: flex;flex-direction: column;z-index: 1;position: relative;background-color: white;}#sk-container-id-2 div.sk-parallel-item:first-child::after {align-self: flex-end;width: 50%;}#sk-container-id-2 div.sk-parallel-item:last-child::after {align-self: flex-start;width: 50%;}#sk-container-id-2 div.sk-parallel-item:only-child::after {width: 0;}#sk-container-id-2 div.sk-dashed-wrapped {border: 1px dashed gray;margin: 0 0.4em 0.5em 0.4em;box-sizing: border-box;padding-bottom: 0.4em;background-color: white;}#sk-container-id-2 div.sk-label label {font-family: monospace;font-weight: bold;display: inline-block;line-height: 1.2em;}#sk-container-id-2 div.sk-label-container {text-align: center;}#sk-container-id-2 div.sk-container {/* jupyter's `normalize.less` sets `[hidden] { display: none; }` but bootstrap.min.css set `[hidden] { display: none !important; }` so we also need the `!important` here to be able to override the default hidden behavior on the sphinx rendered scikit-learn.org. See: https://github.com/scikit-learn/scikit-learn/issues/21755 */display: inline-block !important;position: relative;}#sk-container-id-2 div.sk-text-repr-fallback {display: none;}</style><div id=\"sk-container-id-2\" class=\"sk-top-container\"><div class=\"sk-text-repr-fallback\"><pre>DecisionTreeClassifier(criterion=&#x27;entropy&#x27;)</pre><b>In a Jupyter environment, please rerun this cell to show the HTML representation or trust the notebook. <br />On GitHub, the HTML representation is unable to render, please try loading this page with nbviewer.org.</b></div><div class=\"sk-container\" hidden><div class=\"sk-item\"><div class=\"sk-estimator sk-toggleable\"><input class=\"sk-toggleable__control sk-hidden--visually\" id=\"sk-estimator-id-2\" type=\"checkbox\" checked><label for=\"sk-estimator-id-2\" class=\"sk-toggleable__label sk-toggleable__label-arrow\">DecisionTreeClassifier</label><div class=\"sk-toggleable__content\"><pre>DecisionTreeClassifier(criterion=&#x27;entropy&#x27;)</pre></div></div></div></div></div>"
      ],
      "text/plain": [
       "DecisionTreeClassifier(criterion='entropy')"
      ]
     },
     "execution_count": 40,
     "metadata": {},
     "output_type": "execute_result"
    }
   ],
   "source": [
    "# Create the classifier, fit it on the training data and make predictions on the test set\n",
    "clf = DecisionTreeClassifier(criterion='entropy')\n",
    "\n",
    "clf.fit(X_train, y_train)"
   ]
  },
  {
   "cell_type": "code",
   "execution_count": 41,
   "metadata": {},
   "outputs": [],
   "source": [
    "# Using the trained classifier 'clf' \n",
    "#to predict the labels for the instances represented by the features in the X_test\n",
    "#storing the predicted labels into 'y_pred'\n",
    "y_pred = clf.predict(X_test)"
   ]
  },
  {
   "cell_type": "code",
   "execution_count": 42,
   "metadata": {},
   "outputs": [
    {
     "name": "stdout",
     "output_type": "stream",
     "text": [
      "              precision    recall  f1-score   support\n",
      "\n",
      "           0       0.75      0.75      0.75      4337\n",
      "           1       0.68      0.68      0.68      3402\n",
      "\n",
      "    accuracy                           0.72      7739\n",
      "   macro avg       0.71      0.71      0.71      7739\n",
      "weighted avg       0.72      0.72      0.72      7739\n",
      "\n"
     ]
    }
   ],
   "source": [
    "print(classification_report(y_test, y_pred))"
   ]
  },
  {
   "cell_type": "code",
   "execution_count": 43,
   "metadata": {
    "scrolled": true
   },
   "outputs": [
    {
     "data": {
      "text/plain": [
       "array([4.79084745e-01, 1.75067893e-01, 3.80945287e-02, 2.19151082e-02,\n",
       "       4.31792838e-02, 0.00000000e+00, 1.93965041e-02, 1.61299409e-02,\n",
       "       0.00000000e+00, 2.97787229e-03, 1.46870775e-03, 7.86451547e-02,\n",
       "       3.26877464e-03, 4.96487161e-03, 9.13764485e-03, 2.88718634e-03,\n",
       "       1.30727326e-02, 4.95962867e-04, 4.37101441e-04, 4.71934887e-03,\n",
       "       3.15673734e-04, 3.53583184e-03, 1.88425591e-03, 1.55113355e-03,\n",
       "       1.86801715e-03, 1.34009683e-02, 1.71599851e-03, 6.37211821e-03,\n",
       "       1.30641503e-02, 7.04999950e-03, 1.49615212e-02, 2.13289050e-04,\n",
       "       5.61554685e-04, 1.12423612e-04, 6.09157980e-04, 5.00236206e-03,\n",
       "       1.36479127e-03, 3.92630650e-03, 1.49690056e-03, 1.48677715e-03,\n",
       "       4.63845041e-04, 3.52256449e-04, 3.74730587e-03])"
      ]
     },
     "execution_count": 43,
     "metadata": {},
     "output_type": "execute_result"
    }
   ],
   "source": [
    "clf.feature_importances_"
   ]
  },
  {
   "cell_type": "code",
   "execution_count": 44,
   "metadata": {},
   "outputs": [
    {
     "name": "stdout",
     "output_type": "stream",
     "text": [
      "clf.feature_importances_: [4.79084745e-01 1.75067893e-01 3.80945287e-02 2.19151082e-02\n",
      " 4.31792838e-02 0.00000000e+00 1.93965041e-02 1.61299409e-02\n",
      " 0.00000000e+00 2.97787229e-03 1.46870775e-03 7.86451547e-02\n",
      " 3.26877464e-03 4.96487161e-03 9.13764485e-03 2.88718634e-03\n",
      " 1.30727326e-02 4.95962867e-04 4.37101441e-04 4.71934887e-03\n",
      " 3.15673734e-04 3.53583184e-03 1.88425591e-03 1.55113355e-03\n",
      " 1.86801715e-03 1.34009683e-02 1.71599851e-03 6.37211821e-03\n",
      " 1.30641503e-02 7.04999950e-03 1.49615212e-02 2.13289050e-04\n",
      " 5.61554685e-04 1.12423612e-04 6.09157980e-04 5.00236206e-03\n",
      " 1.36479127e-03 3.92630650e-03 1.49690056e-03 1.48677715e-03\n",
      " 4.63845041e-04 3.52256449e-04 3.74730587e-03]\n",
      "X.columns: Index(['gps_height', 'age', 'quantity_group_enough',\n",
      "       'quantity_group_insufficient', 'quantity_group_seasonal',\n",
      "       'quantity_group_unknown', 'waterpoint_type_communal standpipe',\n",
      "       'waterpoint_type_communal standpipe multiple', 'waterpoint_type_dam',\n",
      "       'waterpoint_type_hand pump', 'waterpoint_type_improved spring',\n",
      "       'waterpoint_type_other', 'extraction_type_class_handpump',\n",
      "       'extraction_type_class_motorpump', 'extraction_type_class_other',\n",
      "       'extraction_type_class_rope pump', 'extraction_type_class_submersible',\n",
      "       'extraction_type_class_wind-powered', 'quality_group_fluoride',\n",
      "       'quality_group_good', 'quality_group_milky', 'quality_group_salty',\n",
      "       'quality_group_unknown', 'source_hand dtw', 'source_lake',\n",
      "       'source_machine dbh', 'source_other', 'source_rainwater harvesting',\n",
      "       'source_river', 'source_shallow well', 'source_spring',\n",
      "       'source_unknown', 'water_quality_fluoride',\n",
      "       'water_quality_fluoride abandoned', 'water_quality_milky',\n",
      "       'water_quality_salty', 'water_quality_salty abandoned',\n",
      "       'water_quality_soft', 'water_quality_unknown', 'quantity_enough',\n",
      "       'quantity_insufficient', 'quantity_seasonal', 'quantity_unknown'],\n",
      "      dtype='object')\n"
     ]
    }
   ],
   "source": [
    "print(\"clf.feature_importances_:\", clf.feature_importances_)\n",
    "print(\"X.columns:\", X_train.columns)"
   ]
  },
  {
   "cell_type": "code",
   "execution_count": 45,
   "metadata": {},
   "outputs": [
    {
     "name": "stdout",
     "output_type": "stream",
     "text": [
      "                                             Importance\n",
      "gps_height                                     0.479085\n",
      "age                                            0.175068\n",
      "quantity_group_enough                          0.038095\n",
      "quantity_group_insufficient                    0.021915\n",
      "quantity_group_seasonal                        0.043179\n",
      "quantity_group_unknown                         0.000000\n",
      "waterpoint_type_communal standpipe             0.019397\n",
      "waterpoint_type_communal standpipe multiple    0.016130\n",
      "waterpoint_type_dam                            0.000000\n",
      "waterpoint_type_hand pump                      0.002978\n",
      "waterpoint_type_improved spring                0.001469\n",
      "waterpoint_type_other                          0.078645\n",
      "extraction_type_class_handpump                 0.003269\n",
      "extraction_type_class_motorpump                0.004965\n",
      "extraction_type_class_other                    0.009138\n",
      "extraction_type_class_rope pump                0.002887\n",
      "extraction_type_class_submersible              0.013073\n",
      "extraction_type_class_wind-powered             0.000496\n",
      "quality_group_fluoride                         0.000437\n",
      "quality_group_good                             0.004719\n",
      "quality_group_milky                            0.000316\n",
      "quality_group_salty                            0.003536\n",
      "quality_group_unknown                          0.001884\n",
      "source_hand dtw                                0.001551\n",
      "source_lake                                    0.001868\n",
      "source_machine dbh                             0.013401\n",
      "source_other                                   0.001716\n",
      "source_rainwater harvesting                    0.006372\n",
      "source_river                                   0.013064\n",
      "source_shallow well                            0.007050\n",
      "source_spring                                  0.014962\n",
      "source_unknown                                 0.000213\n",
      "water_quality_fluoride                         0.000562\n",
      "water_quality_fluoride abandoned               0.000112\n",
      "water_quality_milky                            0.000609\n",
      "water_quality_salty                            0.005002\n",
      "water_quality_salty abandoned                  0.001365\n",
      "water_quality_soft                             0.003926\n",
      "water_quality_unknown                          0.001497\n",
      "quantity_enough                                0.001487\n",
      "quantity_insufficient                          0.000464\n",
      "quantity_seasonal                              0.000352\n",
      "quantity_unknown                               0.003747\n"
     ]
    }
   ],
   "source": [
    "features = pd.DataFrame(clf.feature_importances_, index=X_train.columns, columns=['Importance'])\n",
    "print(features)"
   ]
  },
  {
   "cell_type": "markdown",
   "metadata": {},
   "source": [
    "Building a Random Forest Model"
   ]
  },
  {
   "cell_type": "code",
   "execution_count": 46,
   "metadata": {},
   "outputs": [],
   "source": [
    "#  initializing a Random Forest classifier object that can then be trained on data and used to make predictions.\n",
    "rf = RandomForestClassifier()"
   ]
  },
  {
   "cell_type": "code",
   "execution_count": 47,
   "metadata": {},
   "outputs": [
    {
     "data": {
      "text/html": [
       "<style>#sk-container-id-3 {color: black;}#sk-container-id-3 pre{padding: 0;}#sk-container-id-3 div.sk-toggleable {background-color: white;}#sk-container-id-3 label.sk-toggleable__label {cursor: pointer;display: block;width: 100%;margin-bottom: 0;padding: 0.3em;box-sizing: border-box;text-align: center;}#sk-container-id-3 label.sk-toggleable__label-arrow:before {content: \"▸\";float: left;margin-right: 0.25em;color: #696969;}#sk-container-id-3 label.sk-toggleable__label-arrow:hover:before {color: black;}#sk-container-id-3 div.sk-estimator:hover label.sk-toggleable__label-arrow:before {color: black;}#sk-container-id-3 div.sk-toggleable__content {max-height: 0;max-width: 0;overflow: hidden;text-align: left;background-color: #f0f8ff;}#sk-container-id-3 div.sk-toggleable__content pre {margin: 0.2em;color: black;border-radius: 0.25em;background-color: #f0f8ff;}#sk-container-id-3 input.sk-toggleable__control:checked~div.sk-toggleable__content {max-height: 200px;max-width: 100%;overflow: auto;}#sk-container-id-3 input.sk-toggleable__control:checked~label.sk-toggleable__label-arrow:before {content: \"▾\";}#sk-container-id-3 div.sk-estimator input.sk-toggleable__control:checked~label.sk-toggleable__label {background-color: #d4ebff;}#sk-container-id-3 div.sk-label input.sk-toggleable__control:checked~label.sk-toggleable__label {background-color: #d4ebff;}#sk-container-id-3 input.sk-hidden--visually {border: 0;clip: rect(1px 1px 1px 1px);clip: rect(1px, 1px, 1px, 1px);height: 1px;margin: -1px;overflow: hidden;padding: 0;position: absolute;width: 1px;}#sk-container-id-3 div.sk-estimator {font-family: monospace;background-color: #f0f8ff;border: 1px dotted black;border-radius: 0.25em;box-sizing: border-box;margin-bottom: 0.5em;}#sk-container-id-3 div.sk-estimator:hover {background-color: #d4ebff;}#sk-container-id-3 div.sk-parallel-item::after {content: \"\";width: 100%;border-bottom: 1px solid gray;flex-grow: 1;}#sk-container-id-3 div.sk-label:hover label.sk-toggleable__label {background-color: #d4ebff;}#sk-container-id-3 div.sk-serial::before {content: \"\";position: absolute;border-left: 1px solid gray;box-sizing: border-box;top: 0;bottom: 0;left: 50%;z-index: 0;}#sk-container-id-3 div.sk-serial {display: flex;flex-direction: column;align-items: center;background-color: white;padding-right: 0.2em;padding-left: 0.2em;position: relative;}#sk-container-id-3 div.sk-item {position: relative;z-index: 1;}#sk-container-id-3 div.sk-parallel {display: flex;align-items: stretch;justify-content: center;background-color: white;position: relative;}#sk-container-id-3 div.sk-item::before, #sk-container-id-3 div.sk-parallel-item::before {content: \"\";position: absolute;border-left: 1px solid gray;box-sizing: border-box;top: 0;bottom: 0;left: 50%;z-index: -1;}#sk-container-id-3 div.sk-parallel-item {display: flex;flex-direction: column;z-index: 1;position: relative;background-color: white;}#sk-container-id-3 div.sk-parallel-item:first-child::after {align-self: flex-end;width: 50%;}#sk-container-id-3 div.sk-parallel-item:last-child::after {align-self: flex-start;width: 50%;}#sk-container-id-3 div.sk-parallel-item:only-child::after {width: 0;}#sk-container-id-3 div.sk-dashed-wrapped {border: 1px dashed gray;margin: 0 0.4em 0.5em 0.4em;box-sizing: border-box;padding-bottom: 0.4em;background-color: white;}#sk-container-id-3 div.sk-label label {font-family: monospace;font-weight: bold;display: inline-block;line-height: 1.2em;}#sk-container-id-3 div.sk-label-container {text-align: center;}#sk-container-id-3 div.sk-container {/* jupyter's `normalize.less` sets `[hidden] { display: none; }` but bootstrap.min.css set `[hidden] { display: none !important; }` so we also need the `!important` here to be able to override the default hidden behavior on the sphinx rendered scikit-learn.org. See: https://github.com/scikit-learn/scikit-learn/issues/21755 */display: inline-block !important;position: relative;}#sk-container-id-3 div.sk-text-repr-fallback {display: none;}</style><div id=\"sk-container-id-3\" class=\"sk-top-container\"><div class=\"sk-text-repr-fallback\"><pre>RandomForestClassifier()</pre><b>In a Jupyter environment, please rerun this cell to show the HTML representation or trust the notebook. <br />On GitHub, the HTML representation is unable to render, please try loading this page with nbviewer.org.</b></div><div class=\"sk-container\" hidden><div class=\"sk-item\"><div class=\"sk-estimator sk-toggleable\"><input class=\"sk-toggleable__control sk-hidden--visually\" id=\"sk-estimator-id-3\" type=\"checkbox\" checked><label for=\"sk-estimator-id-3\" class=\"sk-toggleable__label sk-toggleable__label-arrow\">RandomForestClassifier</label><div class=\"sk-toggleable__content\"><pre>RandomForestClassifier()</pre></div></div></div></div></div>"
      ],
      "text/plain": [
       "RandomForestClassifier()"
      ]
     },
     "execution_count": 47,
     "metadata": {},
     "output_type": "execute_result"
    }
   ],
   "source": [
    "# fitting the training and testing data to the model\n",
    "rf.fit(X_train, y_train)"
   ]
  },
  {
   "cell_type": "code",
   "execution_count": 48,
   "metadata": {},
   "outputs": [],
   "source": [
    "# Using the trained classifier 'rf' \n",
    "#to predict the labels for the instances represented by the features in the X_test\n",
    "#storing the predicted labels into 'y_pred'\n",
    "y_pred = rf.predict(X_test)"
   ]
  },
  {
   "cell_type": "code",
   "execution_count": 49,
   "metadata": {},
   "outputs": [
    {
     "data": {
      "text/plain": [
       "0.75306887194728"
      ]
     },
     "execution_count": 49,
     "metadata": {},
     "output_type": "execute_result"
    }
   ],
   "source": [
    "# Checking the accuracy of the model\n",
    "rf.score(X_test, y_test)"
   ]
  },
  {
   "cell_type": "code",
   "execution_count": 50,
   "metadata": {},
   "outputs": [
    {
     "name": "stdout",
     "output_type": "stream",
     "text": [
      "              precision    recall  f1-score   support\n",
      "\n",
      "           0       0.77      0.79      0.78      4337\n",
      "           1       0.73      0.70      0.71      3402\n",
      "\n",
      "    accuracy                           0.75      7739\n",
      "   macro avg       0.75      0.75      0.75      7739\n",
      "weighted avg       0.75      0.75      0.75      7739\n",
      "\n"
     ]
    }
   ],
   "source": [
    "# Viewing the classification report\n",
    "print(classification_report(y_test, y_pred))"
   ]
  },
  {
   "cell_type": "code",
   "execution_count": 51,
   "metadata": {
    "scrolled": false
   },
   "outputs": [
    {
     "name": "stdout",
     "output_type": "stream",
     "text": [
      "                                                    0\n",
      "gps_height                                   0.465653\n",
      "age                                          0.209915\n",
      "quantity_group_enough                        0.033144\n",
      "quantity_group_insufficient                  0.016656\n",
      "quantity_group_seasonal                      0.012961\n",
      "quantity_group_unknown                       0.001413\n",
      "waterpoint_type_communal standpipe           0.020114\n",
      "waterpoint_type_communal standpipe multiple  0.014809\n",
      "waterpoint_type_dam                          0.000109\n",
      "waterpoint_type_hand pump                    0.006722\n",
      "waterpoint_type_improved spring              0.002088\n",
      "waterpoint_type_other                        0.045566\n",
      "extraction_type_class_handpump               0.006587\n",
      "extraction_type_class_motorpump              0.003986\n",
      "extraction_type_class_other                  0.028640\n",
      "extraction_type_class_rope pump              0.002081\n",
      "extraction_type_class_submersible            0.008723\n",
      "extraction_type_class_wind-powered           0.000427\n",
      "quality_group_fluoride                       0.000708\n",
      "quality_group_good                           0.004870\n",
      "quality_group_milky                          0.000282\n",
      "quality_group_salty                          0.001924\n",
      "quality_group_unknown                        0.005701\n",
      "source_hand dtw                              0.001500\n",
      "source_lake                                  0.004694\n",
      "source_machine dbh                           0.007661\n",
      "source_other                                 0.001741\n",
      "source_rainwater harvesting                  0.004619\n",
      "source_river                                 0.006071\n",
      "source_shallow well                          0.005509\n",
      "source_spring                                0.009751\n",
      "source_unknown                               0.000316\n",
      "water_quality_fluoride                       0.000595\n",
      "water_quality_fluoride abandoned             0.000110\n",
      "water_quality_milky                          0.000336\n",
      "water_quality_salty                          0.002313\n",
      "water_quality_salty abandoned                0.000818\n",
      "water_quality_soft                           0.003136\n",
      "water_quality_unknown                        0.004456\n",
      "quantity_enough                              0.022595\n",
      "quantity_insufficient                        0.016134\n",
      "quantity_seasonal                            0.013119\n",
      "quantity_unknown                             0.001445\n"
     ]
    }
   ],
   "source": [
    "# Checking to see what features were the most important in the model\n",
    "features = pd.DataFrame(rf.feature_importances_, index = X_train.columns)\n",
    "print(features)"
   ]
  },
  {
   "cell_type": "code",
   "execution_count": 52,
   "metadata": {},
   "outputs": [
    {
     "name": "stdout",
     "output_type": "stream",
     "text": [
      "                                                    0\n",
      "gps_height                                   0.465653\n",
      "age                                          0.209915\n",
      "waterpoint_type_other                        0.045566\n",
      "quantity_group_enough                        0.033144\n",
      "extraction_type_class_other                  0.028640\n",
      "quantity_enough                              0.022595\n",
      "waterpoint_type_communal standpipe           0.020114\n",
      "quantity_group_insufficient                  0.016656\n",
      "quantity_insufficient                        0.016134\n",
      "waterpoint_type_communal standpipe multiple  0.014809\n",
      "quantity_seasonal                            0.013119\n",
      "quantity_group_seasonal                      0.012961\n",
      "source_spring                                0.009751\n",
      "extraction_type_class_submersible            0.008723\n",
      "source_machine dbh                           0.007661\n",
      "waterpoint_type_hand pump                    0.006722\n",
      "extraction_type_class_handpump               0.006587\n",
      "source_river                                 0.006071\n",
      "quality_group_unknown                        0.005701\n",
      "source_shallow well                          0.005509\n",
      "quality_group_good                           0.004870\n",
      "source_lake                                  0.004694\n",
      "source_rainwater harvesting                  0.004619\n",
      "water_quality_unknown                        0.004456\n",
      "extraction_type_class_motorpump              0.003986\n",
      "water_quality_soft                           0.003136\n",
      "water_quality_salty                          0.002313\n",
      "waterpoint_type_improved spring              0.002088\n",
      "extraction_type_class_rope pump              0.002081\n",
      "quality_group_salty                          0.001924\n",
      "source_other                                 0.001741\n",
      "source_hand dtw                              0.001500\n",
      "quantity_unknown                             0.001445\n",
      "quantity_group_unknown                       0.001413\n",
      "water_quality_salty abandoned                0.000818\n",
      "quality_group_fluoride                       0.000708\n",
      "water_quality_fluoride                       0.000595\n",
      "extraction_type_class_wind-powered           0.000427\n",
      "water_quality_milky                          0.000336\n",
      "source_unknown                               0.000316\n",
      "quality_group_milky                          0.000282\n",
      "water_quality_fluoride abandoned             0.000110\n",
      "waterpoint_type_dam                          0.000109\n"
     ]
    }
   ],
   "source": [
    "# Sorting the features by most influential to least\n",
    "features_sorted = features.sort_values(by=0, ascending=False)\n",
    "print(features_sorted)"
   ]
  },
  {
   "cell_type": "markdown",
   "metadata": {},
   "source": [
    "Building a third model with hyperparameters"
   ]
  },
  {
   "cell_type": "code",
   "execution_count": 53,
   "metadata": {},
   "outputs": [],
   "source": [
    "# Using hyperparameters to hopefully improve the model\n",
    "rf2 = RandomForestClassifier(n_estimators = 1000,\n",
    "                            criterion = 'entropy',\n",
    "                            min_samples_split = 10,\n",
    "                            max_depth = 15,\n",
    "                            random_state = 42\n",
    ")"
   ]
  },
  {
   "cell_type": "code",
   "execution_count": 54,
   "metadata": {},
   "outputs": [
    {
     "data": {
      "text/html": [
       "<style>#sk-container-id-4 {color: black;}#sk-container-id-4 pre{padding: 0;}#sk-container-id-4 div.sk-toggleable {background-color: white;}#sk-container-id-4 label.sk-toggleable__label {cursor: pointer;display: block;width: 100%;margin-bottom: 0;padding: 0.3em;box-sizing: border-box;text-align: center;}#sk-container-id-4 label.sk-toggleable__label-arrow:before {content: \"▸\";float: left;margin-right: 0.25em;color: #696969;}#sk-container-id-4 label.sk-toggleable__label-arrow:hover:before {color: black;}#sk-container-id-4 div.sk-estimator:hover label.sk-toggleable__label-arrow:before {color: black;}#sk-container-id-4 div.sk-toggleable__content {max-height: 0;max-width: 0;overflow: hidden;text-align: left;background-color: #f0f8ff;}#sk-container-id-4 div.sk-toggleable__content pre {margin: 0.2em;color: black;border-radius: 0.25em;background-color: #f0f8ff;}#sk-container-id-4 input.sk-toggleable__control:checked~div.sk-toggleable__content {max-height: 200px;max-width: 100%;overflow: auto;}#sk-container-id-4 input.sk-toggleable__control:checked~label.sk-toggleable__label-arrow:before {content: \"▾\";}#sk-container-id-4 div.sk-estimator input.sk-toggleable__control:checked~label.sk-toggleable__label {background-color: #d4ebff;}#sk-container-id-4 div.sk-label input.sk-toggleable__control:checked~label.sk-toggleable__label {background-color: #d4ebff;}#sk-container-id-4 input.sk-hidden--visually {border: 0;clip: rect(1px 1px 1px 1px);clip: rect(1px, 1px, 1px, 1px);height: 1px;margin: -1px;overflow: hidden;padding: 0;position: absolute;width: 1px;}#sk-container-id-4 div.sk-estimator {font-family: monospace;background-color: #f0f8ff;border: 1px dotted black;border-radius: 0.25em;box-sizing: border-box;margin-bottom: 0.5em;}#sk-container-id-4 div.sk-estimator:hover {background-color: #d4ebff;}#sk-container-id-4 div.sk-parallel-item::after {content: \"\";width: 100%;border-bottom: 1px solid gray;flex-grow: 1;}#sk-container-id-4 div.sk-label:hover label.sk-toggleable__label {background-color: #d4ebff;}#sk-container-id-4 div.sk-serial::before {content: \"\";position: absolute;border-left: 1px solid gray;box-sizing: border-box;top: 0;bottom: 0;left: 50%;z-index: 0;}#sk-container-id-4 div.sk-serial {display: flex;flex-direction: column;align-items: center;background-color: white;padding-right: 0.2em;padding-left: 0.2em;position: relative;}#sk-container-id-4 div.sk-item {position: relative;z-index: 1;}#sk-container-id-4 div.sk-parallel {display: flex;align-items: stretch;justify-content: center;background-color: white;position: relative;}#sk-container-id-4 div.sk-item::before, #sk-container-id-4 div.sk-parallel-item::before {content: \"\";position: absolute;border-left: 1px solid gray;box-sizing: border-box;top: 0;bottom: 0;left: 50%;z-index: -1;}#sk-container-id-4 div.sk-parallel-item {display: flex;flex-direction: column;z-index: 1;position: relative;background-color: white;}#sk-container-id-4 div.sk-parallel-item:first-child::after {align-self: flex-end;width: 50%;}#sk-container-id-4 div.sk-parallel-item:last-child::after {align-self: flex-start;width: 50%;}#sk-container-id-4 div.sk-parallel-item:only-child::after {width: 0;}#sk-container-id-4 div.sk-dashed-wrapped {border: 1px dashed gray;margin: 0 0.4em 0.5em 0.4em;box-sizing: border-box;padding-bottom: 0.4em;background-color: white;}#sk-container-id-4 div.sk-label label {font-family: monospace;font-weight: bold;display: inline-block;line-height: 1.2em;}#sk-container-id-4 div.sk-label-container {text-align: center;}#sk-container-id-4 div.sk-container {/* jupyter's `normalize.less` sets `[hidden] { display: none; }` but bootstrap.min.css set `[hidden] { display: none !important; }` so we also need the `!important` here to be able to override the default hidden behavior on the sphinx rendered scikit-learn.org. See: https://github.com/scikit-learn/scikit-learn/issues/21755 */display: inline-block !important;position: relative;}#sk-container-id-4 div.sk-text-repr-fallback {display: none;}</style><div id=\"sk-container-id-4\" class=\"sk-top-container\"><div class=\"sk-text-repr-fallback\"><pre>RandomForestClassifier(criterion=&#x27;entropy&#x27;, max_depth=15, min_samples_split=10,\n",
       "                       n_estimators=1000, random_state=42)</pre><b>In a Jupyter environment, please rerun this cell to show the HTML representation or trust the notebook. <br />On GitHub, the HTML representation is unable to render, please try loading this page with nbviewer.org.</b></div><div class=\"sk-container\" hidden><div class=\"sk-item\"><div class=\"sk-estimator sk-toggleable\"><input class=\"sk-toggleable__control sk-hidden--visually\" id=\"sk-estimator-id-4\" type=\"checkbox\" checked><label for=\"sk-estimator-id-4\" class=\"sk-toggleable__label sk-toggleable__label-arrow\">RandomForestClassifier</label><div class=\"sk-toggleable__content\"><pre>RandomForestClassifier(criterion=&#x27;entropy&#x27;, max_depth=15, min_samples_split=10,\n",
       "                       n_estimators=1000, random_state=42)</pre></div></div></div></div></div>"
      ],
      "text/plain": [
       "RandomForestClassifier(criterion='entropy', max_depth=15, min_samples_split=10,\n",
       "                       n_estimators=1000, random_state=42)"
      ]
     },
     "execution_count": 54,
     "metadata": {},
     "output_type": "execute_result"
    }
   ],
   "source": [
    "# fitting the training and testing data to the model\n",
    "rf2.fit(X_train, y_train)"
   ]
  },
  {
   "cell_type": "markdown",
   "metadata": {},
   "source": [
    "This model received a mean accuracy score of 77%"
   ]
  },
  {
   "cell_type": "code",
   "execution_count": 55,
   "metadata": {},
   "outputs": [
    {
     "data": {
      "text/plain": [
       "0.7771029848817677"
      ]
     },
     "execution_count": 55,
     "metadata": {},
     "output_type": "execute_result"
    }
   ],
   "source": [
    "# Checking the accuracy of the model\n",
    "rf2.score(X_test, y_test)"
   ]
  },
  {
   "cell_type": "code",
   "execution_count": 56,
   "metadata": {},
   "outputs": [],
   "source": [
    "# Using the trained classifier 'rf2' \n",
    "#to predict the labels for the instances represented by the features in the X_test\n",
    "#storing the predicted labels into 'y_pred2'\n",
    "y_pred2 = rf2.predict(X_test)"
   ]
  },
  {
   "cell_type": "code",
   "execution_count": 57,
   "metadata": {},
   "outputs": [
    {
     "name": "stdout",
     "output_type": "stream",
     "text": [
      "              precision    recall  f1-score   support\n",
      "\n",
      "           0       0.74      0.92      0.82      4337\n",
      "           1       0.85      0.60      0.70      3402\n",
      "\n",
      "    accuracy                           0.78      7739\n",
      "   macro avg       0.80      0.76      0.76      7739\n",
      "weighted avg       0.79      0.78      0.77      7739\n",
      "\n"
     ]
    }
   ],
   "source": [
    "# Viewing the classification report\n",
    "print(classification_report(y_test, y_pred2))"
   ]
  },
  {
   "cell_type": "code",
   "execution_count": 58,
   "metadata": {},
   "outputs": [
    {
     "name": "stdout",
     "output_type": "stream",
     "text": [
      "                                                    0\n",
      "gps_height                                   0.174928\n",
      "age                                          0.204496\n",
      "quantity_group_enough                        0.052745\n",
      "quantity_group_insufficient                  0.030399\n",
      "quantity_group_seasonal                      0.026672\n",
      "quantity_group_unknown                       0.003800\n",
      "waterpoint_type_communal standpipe           0.041878\n",
      "waterpoint_type_communal standpipe multiple  0.024623\n",
      "waterpoint_type_dam                          0.000199\n",
      "waterpoint_type_hand pump                    0.013010\n",
      "waterpoint_type_improved spring              0.004313\n",
      "waterpoint_type_other                        0.085681\n",
      "extraction_type_class_handpump               0.013270\n",
      "extraction_type_class_motorpump              0.007218\n",
      "extraction_type_class_other                  0.060175\n",
      "extraction_type_class_rope pump              0.003420\n",
      "extraction_type_class_submersible            0.013185\n",
      "extraction_type_class_wind-powered           0.000707\n",
      "quality_group_fluoride                       0.001126\n",
      "quality_group_good                           0.007083\n",
      "quality_group_milky                          0.000550\n",
      "quality_group_salty                          0.003862\n",
      "quality_group_unknown                        0.010975\n",
      "source_hand dtw                              0.002364\n",
      "source_lake                                  0.009164\n",
      "source_machine dbh                           0.012076\n",
      "source_other                                 0.003458\n",
      "source_rainwater harvesting                  0.008757\n",
      "source_river                                 0.009067\n",
      "source_shallow well                          0.011366\n",
      "source_spring                                0.018249\n",
      "source_unknown                               0.000417\n",
      "water_quality_fluoride                       0.001182\n",
      "water_quality_fluoride abandoned             0.000174\n",
      "water_quality_milky                          0.000564\n",
      "water_quality_salty                          0.003575\n",
      "water_quality_salty abandoned                0.001344\n",
      "water_quality_soft                           0.007038\n",
      "water_quality_unknown                        0.011520\n",
      "quantity_enough                              0.051274\n",
      "quantity_insufficient                        0.032429\n",
      "quantity_seasonal                            0.028103\n",
      "quantity_unknown                             0.003561\n"
     ]
    }
   ],
   "source": [
    "# Checking to see what features were the most important in the model\n",
    "features = pd.DataFrame(rf2.feature_importances_, index = X_train.columns)\n",
    "print(features)"
   ]
  },
  {
   "cell_type": "code",
   "execution_count": 59,
   "metadata": {},
   "outputs": [
    {
     "name": "stdout",
     "output_type": "stream",
     "text": [
      "                                                    0\n",
      "age                                          0.204496\n",
      "gps_height                                   0.174928\n",
      "waterpoint_type_other                        0.085681\n",
      "extraction_type_class_other                  0.060175\n",
      "quantity_group_enough                        0.052745\n",
      "quantity_enough                              0.051274\n",
      "waterpoint_type_communal standpipe           0.041878\n",
      "quantity_insufficient                        0.032429\n",
      "quantity_group_insufficient                  0.030399\n",
      "quantity_seasonal                            0.028103\n",
      "quantity_group_seasonal                      0.026672\n",
      "waterpoint_type_communal standpipe multiple  0.024623\n",
      "source_spring                                0.018249\n",
      "extraction_type_class_handpump               0.013270\n",
      "extraction_type_class_submersible            0.013185\n",
      "waterpoint_type_hand pump                    0.013010\n",
      "source_machine dbh                           0.012076\n",
      "water_quality_unknown                        0.011520\n",
      "source_shallow well                          0.011366\n",
      "quality_group_unknown                        0.010975\n",
      "source_lake                                  0.009164\n",
      "source_river                                 0.009067\n",
      "source_rainwater harvesting                  0.008757\n",
      "extraction_type_class_motorpump              0.007218\n",
      "quality_group_good                           0.007083\n",
      "water_quality_soft                           0.007038\n",
      "waterpoint_type_improved spring              0.004313\n",
      "quality_group_salty                          0.003862\n",
      "quantity_group_unknown                       0.003800\n",
      "water_quality_salty                          0.003575\n",
      "quantity_unknown                             0.003561\n",
      "source_other                                 0.003458\n",
      "extraction_type_class_rope pump              0.003420\n",
      "source_hand dtw                              0.002364\n",
      "water_quality_salty abandoned                0.001344\n",
      "water_quality_fluoride                       0.001182\n",
      "quality_group_fluoride                       0.001126\n",
      "extraction_type_class_wind-powered           0.000707\n",
      "water_quality_milky                          0.000564\n",
      "quality_group_milky                          0.000550\n",
      "source_unknown                               0.000417\n",
      "waterpoint_type_dam                          0.000199\n",
      "water_quality_fluoride abandoned             0.000174\n"
     ]
    }
   ],
   "source": [
    "# Sorting the features by most influential to least\n",
    "features_sorted = features.sort_values(by=0, ascending=False)\n",
    "print(features_sorted)"
   ]
  },
  {
   "cell_type": "code",
   "execution_count": 60,
   "metadata": {},
   "outputs": [
    {
     "name": "stdout",
     "output_type": "stream",
     "text": [
      "[[3440  897]\n",
      " [1014 2388]]\n"
     ]
    }
   ],
   "source": [
    "# Checking the dimensions of the confusion matrix\n",
    "print(confusion_matrix(y_test, y_pred))"
   ]
  },
  {
   "cell_type": "markdown",
   "metadata": {},
   "source": [
    "The confusion matrix shows that our True/Positives are 2,388, our True/Negatives are 3,440. The False/Positives are at 897, and the False/Negatives are 1,014."
   ]
  },
  {
   "cell_type": "code",
   "execution_count": 61,
   "metadata": {},
   "outputs": [
    {
     "data": {
      "image/png": "[encoded data removed]",
      "text/plain": [
       "<Figure size 576x432 with 1 Axes>"
      ]
     },
     "metadata": {
      "needs_background": "light"
     },
     "output_type": "display_data"
    }
   ],
   "source": [
    "# Generating a confusion matrix\n",
    "cm = confusion_matrix(y_test, y_pred)\n",
    "\n",
    "# Set up a figure and axis\n",
    "plt.figure(figsize=(8, 6))\n",
    "sns.set(font_scale=1.2)  # Adjust font size for better readability\n",
    "\n",
    "# Create a heatmap of the confusion matrix\n",
    "sns.heatmap(cm, annot=True, fmt='g', cmap='Blues', cbar=False,\n",
    "            annot_kws={\"size\": 14}, square=True,\n",
    "            xticklabels=['Not Needs Repair', 'Needs Repair'],\n",
    "            yticklabels=['Not Needs Repair', 'Needs Repair'])\n",
    "\n",
    "# Labeling and viewing the cm\n",
    "plt.xlabel('Predicted')\n",
    "plt.ylabel('True')\n",
    "plt.title('Confusion Matrix')\n",
    "plt.show()"
   ]
  },
  {
   "cell_type": "markdown",
   "metadata": {},
   "source": [
    "# Evaluation"
   ]
  },
  {
   "cell_type": "markdown",
   "metadata": {},
   "source": [
    "My best performing model was my rf2 model which was the Random Forest model with hyperparameters. It showed a 76% on the macro avg. (where all classes equally contribute to the final averaged metric) of recall. Although this isn't great, it does help in identifying wells that are in need of repair. I focused on recall because it explains how many of the actual positive cases we were able to predict correctly. When it came to the problem of  the business understanding it was more of a concern to identify false negatives , labeling wells as not needing repair that are actually in need of repair will lead to people not having access to water. "
   ]
  },
  {
   "cell_type": "markdown",
   "metadata": {},
   "source": [
    "# Conclusion"
   ]
  },
  {
   "cell_type": "markdown",
   "metadata": {},
   "source": [
    "The 'rf2' which was the 2nd Random Forest Model with hyperparameters was our best peforming model which showed a 76% macro avg. on recall. Although this wasn't a stellar score in helped to gain insights on wells that should be repaired. We need to gather more data (hundreds of thousands more entries) from features that show higher importance percentages, this will improve the predictive capabilites of our models. I found that there was a positive relationship between the ratio of wells needing repair and the age of a well. I also discovered there is generally a negative relationship between the ratio of wells needing repair and the altitude of a well from slightly below sea level to roughly 2,400 feet above sea level. I noticed after 2,400 feet the relationship changes to a positive one. "
   ]
  },
  {
   "cell_type": "markdown",
   "metadata": {},
   "source": [
    "# Recommendations"
   ]
  },
  {
   "cell_type": "markdown",
   "metadata": {},
   "source": [
    "I recommend that there should be an age threshold on waterwells that require repair specialitsts to tend to any well that hits the age of 20. My analysis indicates that roughly 50% of wells are in need of repairs by the age of 30. If we send repair specialists to wells starting at the age of 20 we can tackle problems before they become larger issues potenitally leaving people without clean drinking water. I also recommend we gather more data regarding population around the well. Anything mechanical undergoes 'wear and tear' the more it is used. Gathering more information on the population around the wells will show what kind of impact this has on the ratio of wells needing repair. This may also help us understand the relationship of the ratio of wells needing repairs at each altitude, since the reasons were inconclusive. Lastly I recommend gathering more data on geographic location to see what wells were not functioning because of mechanical issues and which wells were not functioning due to a lack of water supply, looking at areas susceptile to droughts would be one example of how further data would be useful to locate problem wells due to geographic location."
   ]
  },
  {
   "cell_type": "markdown",
   "metadata": {},
   "source": [
    "# Limitations"
   ]
  },
  {
   "cell_type": "markdown",
   "metadata": {},
   "source": [
    "The main limitation of this dataset was that there were not many features that showed significant importance in our models. There was also a lot of missing values in the dataset, too many to the point where certain features could not be used. Also the final dataframe used consisted of only 38,000 entries, gathering 10x more data on features with greater importance to our target variable will improve our model."
   ]
  },
  {
   "cell_type": "markdown",
   "metadata": {},
   "source": [
    "# Next Steps"
   ]
  },
  {
   "cell_type": "markdown",
   "metadata": {},
   "source": [
    "We need to start making repairs mandatory at the age of 20 for all wells. We need to look at data regarding population around the well to see if this is having an impact on the lifespan of a well. We  also need to gather more geographic data around the wells to learn more about the reasons wells are not functioning (mechanical or geographic issues causing a lack of water supply.)"
   ]
  }
 ],
 "metadata": {
  "kernelspec": {
   "display_name": "Python [conda env:learn-env] *",
   "language": "python",
   "name": "conda-env-learn-env-py"
  },
  "language_info": {
   "codemirror_mode": {
    "name": "ipython",
    "version": 3
   },
   "file_extension": ".py",
   "mimetype": "text/x-python",
   "name": "python",
   "nbconvert_exporter": "python",
   "pygments_lexer": "ipython3",
   "version": "3.8.5"
  }
 },
 "nbformat": 4,
 "nbformat_minor": 4
}
