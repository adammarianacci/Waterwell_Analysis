{
 "cells": [
  {
   "cell_type": "markdown",
   "metadata": {},
   "source": [
    "# Introduction\n",
    "\n",
    "## Final Project Submission\n",
    "\n",
    "***\n",
    "- Student Name: Adam Marianacci\n",
    "- Student Pace: Flex\n",
    "- Scheduled project review date/time: TBD\n",
    "- Instructor Name: Mark Barbour"
   ]
  },
  {
   "cell_type": "markdown",
   "metadata": {},
   "source": [
    "# Business Understanding"
   ]
  },
  {
   "cell_type": "markdown",
   "metadata": {},
   "source": [
    "It is my job to help the WWFA (Water Wells For Africa) organization identify wells that are in need or repair in Tanzania."
   ]
  },
  {
   "cell_type": "markdown",
   "metadata": {},
   "source": [
    "# Data Understanding"
   ]
  },
  {
   "cell_type": "markdown",
   "metadata": {},
   "source": [
    "The data used in this analysis comes from the Taarifa waterpoints dashboard, which aggregates data from the Tanzania Ministry of Water. The final dataframe used in this analysis contained over 38,000 entries. The dataset consisted of various information about waterwells in Tanzania such as the functioning status, water quality,  age, source, and altitude to name a few. One limitation of the dataset is that it is a fairly small since we are dealing with predictive modeling. Another limitation was that many of the features in the dataset were shown to have insignificant importance when it came to predicting wells that were in need of repair. The dataset was suitable for the project because it did reveal some notable features about wells. I was able to gain insight into identifying where repairs were needed to help the WWFA promote access to potable water across Tanzania."
   ]
  },
  {
   "cell_type": "markdown",
   "metadata": {},
   "source": [
    "# Data Preperation"
   ]
  },
  {
   "cell_type": "code",
   "execution_count": 1,
   "metadata": {},
   "outputs": [],
   "source": [
    "# Importing the necessary libraries\n",
    "import pandas as pd\n",
    "from datetime import datetime\n",
    "import numpy as np\n",
    "import seaborn as sns\n",
    "import folium\n",
    "import statsmodels as sm\n",
    "import sklearn\n",
    "import sklearn.preprocessing as preprocessing\n",
    "import matplotlib.pyplot as plt\n",
    "from scipy import stats\n",
    "from sklearn import linear_model\n",
    "from sklearn.linear_model import LogisticRegression\n",
    "from sklearn.feature_selection import RFE\n",
    "from sklearn.ensemble import RandomForestClassifier\n",
    "from sklearn.tree import DecisionTreeClassifier\n",
    "from sklearn import tree\n",
    "from sklearn.metrics import confusion_matrix\n",
    "from sklearn.metrics import classification_report\n",
    "from sklearn.model_selection import cross_val_score\n",
    "from sklearn.model_selection import train_test_split\n",
    "from sklearn.preprocessing import MinMaxScaler\n",
    "from sklearn.linear_model import LinearRegression\n",
    "from sklearn.preprocessing import OneHotEncoder\n",
    "from sklearn.compose import ColumnTransformer\n",
    "from sklearn.impute import SimpleImputer\n",
    "from sklearn.metrics import r2_score, mean_squared_error, mean_absolute_error\n",
    "import warnings\n",
    "warnings.filterwarnings('ignore')"
   ]
  },
  {
   "cell_type": "code",
   "execution_count": 2,
   "metadata": {},
   "outputs": [],
   "source": [
    "# Set display options to show all rows and columns\n",
    "pd.set_option('display.max_rows', None)\n",
    "pd.set_option('display.max_columns', None)"
   ]
  },
  {
   "cell_type": "code",
   "execution_count": 3,
   "metadata": {},
   "outputs": [],
   "source": [
    "# Importing the dataframes\n",
    "df_x = pd.read_csv('data/training_set_values.csv')\n",
    "df_y = pd.read_csv('data/training_set_labels.csv')"
   ]
  },
  {
   "cell_type": "code",
   "execution_count": 4,
   "metadata": {},
   "outputs": [],
   "source": [
    "# Combining the 2 dataframes into 1 new dataframe\n",
    "Waterwells_df = pd.concat([df_y, df_x], axis=1)"
   ]
  },
  {
   "cell_type": "code",
   "execution_count": 5,
   "metadata": {
    "scrolled": false
   },
   "outputs": [
    {
     "data": {
      "text/html": [
       "<div>\n",
       "<style scoped>\n",
       "    .dataframe tbody tr th:only-of-type {\n",
       "        vertical-align: middle;\n",
       "    }\n",
       "\n",
       "    .dataframe tbody tr th {\n",
       "        vertical-align: top;\n",
       "    }\n",
       "\n",
       "    .dataframe thead th {\n",
       "        text-align: right;\n",
       "    }\n",
       "</style>\n",
       "<table border=\"1\" class=\"dataframe\">\n",
       "  <thead>\n",
       "    <tr style=\"text-align: right;\">\n",
       "      <th></th>\n",
       "      <th>id</th>\n",
       "      <th>status_group</th>\n",
       "      <th>id</th>\n",
       "      <th>amount_tsh</th>\n",
       "      <th>date_recorded</th>\n",
       "      <th>funder</th>\n",
       "      <th>gps_height</th>\n",
       "      <th>installer</th>\n",
       "      <th>longitude</th>\n",
       "      <th>latitude</th>\n",
       "      <th>wpt_name</th>\n",
       "      <th>num_private</th>\n",
       "      <th>basin</th>\n",
       "      <th>subvillage</th>\n",
       "      <th>region</th>\n",
       "      <th>region_code</th>\n",
       "      <th>district_code</th>\n",
       "      <th>lga</th>\n",
       "      <th>ward</th>\n",
       "      <th>population</th>\n",
       "      <th>public_meeting</th>\n",
       "      <th>recorded_by</th>\n",
       "      <th>scheme_management</th>\n",
       "      <th>scheme_name</th>\n",
       "      <th>permit</th>\n",
       "      <th>construction_year</th>\n",
       "      <th>extraction_type</th>\n",
       "      <th>extraction_type_group</th>\n",
       "      <th>extraction_type_class</th>\n",
       "      <th>management</th>\n",
       "      <th>management_group</th>\n",
       "      <th>payment</th>\n",
       "      <th>payment_type</th>\n",
       "      <th>water_quality</th>\n",
       "      <th>quality_group</th>\n",
       "      <th>quantity</th>\n",
       "      <th>quantity_group</th>\n",
       "      <th>source</th>\n",
       "      <th>source_type</th>\n",
       "      <th>source_class</th>\n",
       "      <th>waterpoint_type</th>\n",
       "      <th>waterpoint_type_group</th>\n",
       "    </tr>\n",
       "  </thead>\n",
       "  <tbody>\n",
       "    <tr>\n",
       "      <th>0</th>\n",
       "      <td>69572</td>\n",
       "      <td>functional</td>\n",
       "      <td>69572</td>\n",
       "      <td>6000.0</td>\n",
       "      <td>2011-03-14</td>\n",
       "      <td>Roman</td>\n",
       "      <td>1390</td>\n",
       "      <td>Roman</td>\n",
       "      <td>34.938093</td>\n",
       "      <td>-9.856322</td>\n",
       "      <td>none</td>\n",
       "      <td>0</td>\n",
       "      <td>Lake Nyasa</td>\n",
       "      <td>Mnyusi B</td>\n",
       "      <td>Iringa</td>\n",
       "      <td>11</td>\n",
       "      <td>5</td>\n",
       "      <td>Ludewa</td>\n",
       "      <td>Mundindi</td>\n",
       "      <td>109</td>\n",
       "      <td>True</td>\n",
       "      <td>GeoData Consultants Ltd</td>\n",
       "      <td>VWC</td>\n",
       "      <td>Roman</td>\n",
       "      <td>False</td>\n",
       "      <td>1999</td>\n",
       "      <td>gravity</td>\n",
       "      <td>gravity</td>\n",
       "      <td>gravity</td>\n",
       "      <td>vwc</td>\n",
       "      <td>user-group</td>\n",
       "      <td>pay annually</td>\n",
       "      <td>annually</td>\n",
       "      <td>soft</td>\n",
       "      <td>good</td>\n",
       "      <td>enough</td>\n",
       "      <td>enough</td>\n",
       "      <td>spring</td>\n",
       "      <td>spring</td>\n",
       "      <td>groundwater</td>\n",
       "      <td>communal standpipe</td>\n",
       "      <td>communal standpipe</td>\n",
       "    </tr>\n",
       "    <tr>\n",
       "      <th>1</th>\n",
       "      <td>8776</td>\n",
       "      <td>functional</td>\n",
       "      <td>8776</td>\n",
       "      <td>0.0</td>\n",
       "      <td>2013-03-06</td>\n",
       "      <td>Grumeti</td>\n",
       "      <td>1399</td>\n",
       "      <td>GRUMETI</td>\n",
       "      <td>34.698766</td>\n",
       "      <td>-2.147466</td>\n",
       "      <td>Zahanati</td>\n",
       "      <td>0</td>\n",
       "      <td>Lake Victoria</td>\n",
       "      <td>Nyamara</td>\n",
       "      <td>Mara</td>\n",
       "      <td>20</td>\n",
       "      <td>2</td>\n",
       "      <td>Serengeti</td>\n",
       "      <td>Natta</td>\n",
       "      <td>280</td>\n",
       "      <td>NaN</td>\n",
       "      <td>GeoData Consultants Ltd</td>\n",
       "      <td>Other</td>\n",
       "      <td>NaN</td>\n",
       "      <td>True</td>\n",
       "      <td>2010</td>\n",
       "      <td>gravity</td>\n",
       "      <td>gravity</td>\n",
       "      <td>gravity</td>\n",
       "      <td>wug</td>\n",
       "      <td>user-group</td>\n",
       "      <td>never pay</td>\n",
       "      <td>never pay</td>\n",
       "      <td>soft</td>\n",
       "      <td>good</td>\n",
       "      <td>insufficient</td>\n",
       "      <td>insufficient</td>\n",
       "      <td>rainwater harvesting</td>\n",
       "      <td>rainwater harvesting</td>\n",
       "      <td>surface</td>\n",
       "      <td>communal standpipe</td>\n",
       "      <td>communal standpipe</td>\n",
       "    </tr>\n",
       "    <tr>\n",
       "      <th>2</th>\n",
       "      <td>34310</td>\n",
       "      <td>functional</td>\n",
       "      <td>34310</td>\n",
       "      <td>25.0</td>\n",
       "      <td>2013-02-25</td>\n",
       "      <td>Lottery Club</td>\n",
       "      <td>686</td>\n",
       "      <td>World vision</td>\n",
       "      <td>37.460664</td>\n",
       "      <td>-3.821329</td>\n",
       "      <td>Kwa Mahundi</td>\n",
       "      <td>0</td>\n",
       "      <td>Pangani</td>\n",
       "      <td>Majengo</td>\n",
       "      <td>Manyara</td>\n",
       "      <td>21</td>\n",
       "      <td>4</td>\n",
       "      <td>Simanjiro</td>\n",
       "      <td>Ngorika</td>\n",
       "      <td>250</td>\n",
       "      <td>True</td>\n",
       "      <td>GeoData Consultants Ltd</td>\n",
       "      <td>VWC</td>\n",
       "      <td>Nyumba ya mungu pipe scheme</td>\n",
       "      <td>True</td>\n",
       "      <td>2009</td>\n",
       "      <td>gravity</td>\n",
       "      <td>gravity</td>\n",
       "      <td>gravity</td>\n",
       "      <td>vwc</td>\n",
       "      <td>user-group</td>\n",
       "      <td>pay per bucket</td>\n",
       "      <td>per bucket</td>\n",
       "      <td>soft</td>\n",
       "      <td>good</td>\n",
       "      <td>enough</td>\n",
       "      <td>enough</td>\n",
       "      <td>dam</td>\n",
       "      <td>dam</td>\n",
       "      <td>surface</td>\n",
       "      <td>communal standpipe multiple</td>\n",
       "      <td>communal standpipe</td>\n",
       "    </tr>\n",
       "    <tr>\n",
       "      <th>3</th>\n",
       "      <td>67743</td>\n",
       "      <td>non functional</td>\n",
       "      <td>67743</td>\n",
       "      <td>0.0</td>\n",
       "      <td>2013-01-28</td>\n",
       "      <td>Unicef</td>\n",
       "      <td>263</td>\n",
       "      <td>UNICEF</td>\n",
       "      <td>38.486161</td>\n",
       "      <td>-11.155298</td>\n",
       "      <td>Zahanati Ya Nanyumbu</td>\n",
       "      <td>0</td>\n",
       "      <td>Ruvuma / Southern Coast</td>\n",
       "      <td>Mahakamani</td>\n",
       "      <td>Mtwara</td>\n",
       "      <td>90</td>\n",
       "      <td>63</td>\n",
       "      <td>Nanyumbu</td>\n",
       "      <td>Nanyumbu</td>\n",
       "      <td>58</td>\n",
       "      <td>True</td>\n",
       "      <td>GeoData Consultants Ltd</td>\n",
       "      <td>VWC</td>\n",
       "      <td>NaN</td>\n",
       "      <td>True</td>\n",
       "      <td>1986</td>\n",
       "      <td>submersible</td>\n",
       "      <td>submersible</td>\n",
       "      <td>submersible</td>\n",
       "      <td>vwc</td>\n",
       "      <td>user-group</td>\n",
       "      <td>never pay</td>\n",
       "      <td>never pay</td>\n",
       "      <td>soft</td>\n",
       "      <td>good</td>\n",
       "      <td>dry</td>\n",
       "      <td>dry</td>\n",
       "      <td>machine dbh</td>\n",
       "      <td>borehole</td>\n",
       "      <td>groundwater</td>\n",
       "      <td>communal standpipe multiple</td>\n",
       "      <td>communal standpipe</td>\n",
       "    </tr>\n",
       "    <tr>\n",
       "      <th>4</th>\n",
       "      <td>19728</td>\n",
       "      <td>functional</td>\n",
       "      <td>19728</td>\n",
       "      <td>0.0</td>\n",
       "      <td>2011-07-13</td>\n",
       "      <td>Action In A</td>\n",
       "      <td>0</td>\n",
       "      <td>Artisan</td>\n",
       "      <td>31.130847</td>\n",
       "      <td>-1.825359</td>\n",
       "      <td>Shuleni</td>\n",
       "      <td>0</td>\n",
       "      <td>Lake Victoria</td>\n",
       "      <td>Kyanyamisa</td>\n",
       "      <td>Kagera</td>\n",
       "      <td>18</td>\n",
       "      <td>1</td>\n",
       "      <td>Karagwe</td>\n",
       "      <td>Nyakasimbi</td>\n",
       "      <td>0</td>\n",
       "      <td>True</td>\n",
       "      <td>GeoData Consultants Ltd</td>\n",
       "      <td>NaN</td>\n",
       "      <td>NaN</td>\n",
       "      <td>True</td>\n",
       "      <td>0</td>\n",
       "      <td>gravity</td>\n",
       "      <td>gravity</td>\n",
       "      <td>gravity</td>\n",
       "      <td>other</td>\n",
       "      <td>other</td>\n",
       "      <td>never pay</td>\n",
       "      <td>never pay</td>\n",
       "      <td>soft</td>\n",
       "      <td>good</td>\n",
       "      <td>seasonal</td>\n",
       "      <td>seasonal</td>\n",
       "      <td>rainwater harvesting</td>\n",
       "      <td>rainwater harvesting</td>\n",
       "      <td>surface</td>\n",
       "      <td>communal standpipe</td>\n",
       "      <td>communal standpipe</td>\n",
       "    </tr>\n",
       "  </tbody>\n",
       "</table>\n",
       "</div>"
      ],
      "text/plain": [
       "      id    status_group     id  amount_tsh date_recorded        funder  \\\n",
       "0  69572      functional  69572      6000.0    2011-03-14         Roman   \n",
       "1   8776      functional   8776         0.0    2013-03-06       Grumeti   \n",
       "2  34310      functional  34310        25.0    2013-02-25  Lottery Club   \n",
       "3  67743  non functional  67743         0.0    2013-01-28        Unicef   \n",
       "4  19728      functional  19728         0.0    2011-07-13   Action In A   \n",
       "\n",
       "   gps_height     installer  longitude   latitude              wpt_name  \\\n",
       "0        1390         Roman  34.938093  -9.856322                  none   \n",
       "1        1399       GRUMETI  34.698766  -2.147466              Zahanati   \n",
       "2         686  World vision  37.460664  -3.821329           Kwa Mahundi   \n",
       "3         263        UNICEF  38.486161 -11.155298  Zahanati Ya Nanyumbu   \n",
       "4           0       Artisan  31.130847  -1.825359               Shuleni   \n",
       "\n",
       "   num_private                    basin  subvillage   region  region_code  \\\n",
       "0            0               Lake Nyasa    Mnyusi B   Iringa           11   \n",
       "1            0            Lake Victoria     Nyamara     Mara           20   \n",
       "2            0                  Pangani     Majengo  Manyara           21   \n",
       "3            0  Ruvuma / Southern Coast  Mahakamani   Mtwara           90   \n",
       "4            0            Lake Victoria  Kyanyamisa   Kagera           18   \n",
       "\n",
       "   district_code        lga        ward  population public_meeting  \\\n",
       "0              5     Ludewa    Mundindi         109           True   \n",
       "1              2  Serengeti       Natta         280            NaN   \n",
       "2              4  Simanjiro     Ngorika         250           True   \n",
       "3             63   Nanyumbu    Nanyumbu          58           True   \n",
       "4              1    Karagwe  Nyakasimbi           0           True   \n",
       "\n",
       "               recorded_by scheme_management                  scheme_name  \\\n",
       "0  GeoData Consultants Ltd               VWC                        Roman   \n",
       "1  GeoData Consultants Ltd             Other                          NaN   \n",
       "2  GeoData Consultants Ltd               VWC  Nyumba ya mungu pipe scheme   \n",
       "3  GeoData Consultants Ltd               VWC                          NaN   \n",
       "4  GeoData Consultants Ltd               NaN                          NaN   \n",
       "\n",
       "  permit  construction_year extraction_type extraction_type_group  \\\n",
       "0  False               1999         gravity               gravity   \n",
       "1   True               2010         gravity               gravity   \n",
       "2   True               2009         gravity               gravity   \n",
       "3   True               1986     submersible           submersible   \n",
       "4   True                  0         gravity               gravity   \n",
       "\n",
       "  extraction_type_class management management_group         payment  \\\n",
       "0               gravity        vwc       user-group    pay annually   \n",
       "1               gravity        wug       user-group       never pay   \n",
       "2               gravity        vwc       user-group  pay per bucket   \n",
       "3           submersible        vwc       user-group       never pay   \n",
       "4               gravity      other            other       never pay   \n",
       "\n",
       "  payment_type water_quality quality_group      quantity quantity_group  \\\n",
       "0     annually          soft          good        enough         enough   \n",
       "1    never pay          soft          good  insufficient   insufficient   \n",
       "2   per bucket          soft          good        enough         enough   \n",
       "3    never pay          soft          good           dry            dry   \n",
       "4    never pay          soft          good      seasonal       seasonal   \n",
       "\n",
       "                 source           source_type source_class  \\\n",
       "0                spring                spring  groundwater   \n",
       "1  rainwater harvesting  rainwater harvesting      surface   \n",
       "2                   dam                   dam      surface   \n",
       "3           machine dbh              borehole  groundwater   \n",
       "4  rainwater harvesting  rainwater harvesting      surface   \n",
       "\n",
       "               waterpoint_type waterpoint_type_group  \n",
       "0           communal standpipe    communal standpipe  \n",
       "1           communal standpipe    communal standpipe  \n",
       "2  communal standpipe multiple    communal standpipe  \n",
       "3  communal standpipe multiple    communal standpipe  \n",
       "4           communal standpipe    communal standpipe  "
      ]
     },
     "execution_count": 5,
     "metadata": {},
     "output_type": "execute_result"
    }
   ],
   "source": [
    "# Previewing the dataframe\n",
    "Waterwells_df.head()"
   ]
  },
  {
   "cell_type": "code",
   "execution_count": 7,
   "metadata": {},
   "outputs": [
    {
     "name": "stdout",
     "output_type": "stream",
     "text": [
      "<class 'pandas.core.frame.DataFrame'>\n",
      "RangeIndex: 59400 entries, 0 to 59399\n",
      "Data columns (total 42 columns):\n",
      " #   Column                 Non-Null Count  Dtype  \n",
      "---  ------                 --------------  -----  \n",
      " 0   id                     59400 non-null  int64  \n",
      " 1   status_group           59400 non-null  object \n",
      " 2   id                     59400 non-null  int64  \n",
      " 3   amount_tsh             59400 non-null  float64\n",
      " 4   date_recorded          59400 non-null  object \n",
      " 5   funder                 55765 non-null  object \n",
      " 6   gps_height             59400 non-null  int64  \n",
      " 7   installer              55745 non-null  object \n",
      " 8   longitude              59400 non-null  float64\n",
      " 9   latitude               59400 non-null  float64\n",
      " 10  wpt_name               59400 non-null  object \n",
      " 11  num_private            59400 non-null  int64  \n",
      " 12  basin                  59400 non-null  object \n",
      " 13  subvillage             59029 non-null  object \n",
      " 14  region                 59400 non-null  object \n",
      " 15  region_code            59400 non-null  int64  \n",
      " 16  district_code          59400 non-null  int64  \n",
      " 17  lga                    59400 non-null  object \n",
      " 18  ward                   59400 non-null  object \n",
      " 19  population             59400 non-null  int64  \n",
      " 20  public_meeting         56066 non-null  object \n",
      " 21  recorded_by            59400 non-null  object \n",
      " 22  scheme_management      55523 non-null  object \n",
      " 23  scheme_name            31234 non-null  object \n",
      " 24  permit                 56344 non-null  object \n",
      " 25  construction_year      59400 non-null  int64  \n",
      " 26  extraction_type        59400 non-null  object \n",
      " 27  extraction_type_group  59400 non-null  object \n",
      " 28  extraction_type_class  59400 non-null  object \n",
      " 29  management             59400 non-null  object \n",
      " 30  management_group       59400 non-null  object \n",
      " 31  payment                59400 non-null  object \n",
      " 32  payment_type           59400 non-null  object \n",
      " 33  water_quality          59400 non-null  object \n",
      " 34  quality_group          59400 non-null  object \n",
      " 35  quantity               59400 non-null  object \n",
      " 36  quantity_group         59400 non-null  object \n",
      " 37  source                 59400 non-null  object \n",
      " 38  source_type            59400 non-null  object \n",
      " 39  source_class           59400 non-null  object \n",
      " 40  waterpoint_type        59400 non-null  object \n",
      " 41  waterpoint_type_group  59400 non-null  object \n",
      "dtypes: float64(3), int64(8), object(31)\n",
      "memory usage: 19.0+ MB\n"
     ]
    }
   ],
   "source": [
    "Waterwells_df.info()"
   ]
  },
  {
   "cell_type": "markdown",
   "metadata": {},
   "source": [
    "Dropping columns that are not directly related to the business problem and also have high cardinality, making them difficult to one hot encode."
   ]
  },
  {
   "cell_type": "code",
   "execution_count": 8,
   "metadata": {},
   "outputs": [],
   "source": [
    "# Dropping irrelevant columns from the dataframe, also columns with large amounts of missing data\n",
    "columns_to_drop = [\n",
    "    'id', 'scheme_management', 'region', 'region_code',\n",
    "    'payment', 'public_meeting', 'district_code', 'population','amount_tsh',\n",
    "    'num_private', 'basin', 'latitude', 'longitude',\n",
    "    'waterpoint_type_group', 'source_class', 'payment_type', 'management_group', 'recorded_by', \n",
    "    'extraction_type', 'management', \n",
    "    'source_type', 'extraction_type_group', 'permit', 'funder',\n",
    "    'date_recorded', 'installer', 'ward', 'scheme_name', 'wpt_name', 'lga', 'subvillage'\n",
    "]\n",
    "\n",
    "Waterwells_df = Waterwells_df.drop(columns_to_drop, axis=1, errors='ignore')\n"
   ]
  },
  {
   "cell_type": "code",
   "execution_count": 9,
   "metadata": {},
   "outputs": [
    {
     "data": {
      "text/html": [
       "<div>\n",
       "<style scoped>\n",
       "    .dataframe tbody tr th:only-of-type {\n",
       "        vertical-align: middle;\n",
       "    }\n",
       "\n",
       "    .dataframe tbody tr th {\n",
       "        vertical-align: top;\n",
       "    }\n",
       "\n",
       "    .dataframe thead th {\n",
       "        text-align: right;\n",
       "    }\n",
       "</style>\n",
       "<table border=\"1\" class=\"dataframe\">\n",
       "  <thead>\n",
       "    <tr style=\"text-align: right;\">\n",
       "      <th></th>\n",
       "      <th>gps_height</th>\n",
       "      <th>construction_year</th>\n",
       "      <th>extraction_type_class</th>\n",
       "      <th>water_quality</th>\n",
       "      <th>quality_group</th>\n",
       "      <th>quantity</th>\n",
       "      <th>quantity_group</th>\n",
       "      <th>source</th>\n",
       "      <th>waterpoint_type</th>\n",
       "      <th>needs_repair</th>\n",
       "    </tr>\n",
       "  </thead>\n",
       "  <tbody>\n",
       "    <tr>\n",
       "      <th>0</th>\n",
       "      <td>1390</td>\n",
       "      <td>1999</td>\n",
       "      <td>gravity</td>\n",
       "      <td>soft</td>\n",
       "      <td>good</td>\n",
       "      <td>enough</td>\n",
       "      <td>enough</td>\n",
       "      <td>spring</td>\n",
       "      <td>communal standpipe</td>\n",
       "      <td>0</td>\n",
       "    </tr>\n",
       "    <tr>\n",
       "      <th>1</th>\n",
       "      <td>1399</td>\n",
       "      <td>2010</td>\n",
       "      <td>gravity</td>\n",
       "      <td>soft</td>\n",
       "      <td>good</td>\n",
       "      <td>insufficient</td>\n",
       "      <td>insufficient</td>\n",
       "      <td>rainwater harvesting</td>\n",
       "      <td>communal standpipe</td>\n",
       "      <td>0</td>\n",
       "    </tr>\n",
       "    <tr>\n",
       "      <th>2</th>\n",
       "      <td>686</td>\n",
       "      <td>2009</td>\n",
       "      <td>gravity</td>\n",
       "      <td>soft</td>\n",
       "      <td>good</td>\n",
       "      <td>enough</td>\n",
       "      <td>enough</td>\n",
       "      <td>dam</td>\n",
       "      <td>communal standpipe multiple</td>\n",
       "      <td>0</td>\n",
       "    </tr>\n",
       "    <tr>\n",
       "      <th>3</th>\n",
       "      <td>263</td>\n",
       "      <td>1986</td>\n",
       "      <td>submersible</td>\n",
       "      <td>soft</td>\n",
       "      <td>good</td>\n",
       "      <td>dry</td>\n",
       "      <td>dry</td>\n",
       "      <td>machine dbh</td>\n",
       "      <td>communal standpipe multiple</td>\n",
       "      <td>1</td>\n",
       "    </tr>\n",
       "    <tr>\n",
       "      <th>4</th>\n",
       "      <td>0</td>\n",
       "      <td>0</td>\n",
       "      <td>gravity</td>\n",
       "      <td>soft</td>\n",
       "      <td>good</td>\n",
       "      <td>seasonal</td>\n",
       "      <td>seasonal</td>\n",
       "      <td>rainwater harvesting</td>\n",
       "      <td>communal standpipe</td>\n",
       "      <td>0</td>\n",
       "    </tr>\n",
       "  </tbody>\n",
       "</table>\n",
       "</div>"
      ],
      "text/plain": [
       "   gps_height  construction_year extraction_type_class water_quality  \\\n",
       "0        1390               1999               gravity          soft   \n",
       "1        1399               2010               gravity          soft   \n",
       "2         686               2009               gravity          soft   \n",
       "3         263               1986           submersible          soft   \n",
       "4           0                  0               gravity          soft   \n",
       "\n",
       "  quality_group      quantity quantity_group                source  \\\n",
       "0          good        enough         enough                spring   \n",
       "1          good  insufficient   insufficient  rainwater harvesting   \n",
       "2          good        enough         enough                   dam   \n",
       "3          good           dry            dry           machine dbh   \n",
       "4          good      seasonal       seasonal  rainwater harvesting   \n",
       "\n",
       "               waterpoint_type  needs_repair  \n",
       "0           communal standpipe             0  \n",
       "1           communal standpipe             0  \n",
       "2  communal standpipe multiple             0  \n",
       "3  communal standpipe multiple             1  \n",
       "4           communal standpipe             0  "
      ]
     },
     "execution_count": 9,
     "metadata": {},
     "output_type": "execute_result"
    }
   ],
   "source": [
    "# Create a new column 'needs_repair' by merging the two categories\n",
    "Waterwells_df['needs_repair'] = Waterwells_df['status_group'].replace(\n",
    "    {'functional': 0, 'non functional': 1, \n",
    "     'functional needs repair': 1})\n",
    "\n",
    "# Drop the original 'status_group' column\n",
    "Waterwells_df.drop('status_group', axis=1, inplace=True)\n",
    "\n",
    "#Display the updated DataFrame\n",
    "Waterwells_df.head()\n",
    "\n"
   ]
  },
  {
   "cell_type": "code",
   "execution_count": 10,
   "metadata": {},
   "outputs": [],
   "source": [
    "#dropping the missing values from the 'construction_year' column and creating a new df\n",
    "Construction_Year_df = Waterwells_df[Waterwells_df['construction_year'] != 0]\n",
    "\n",
    "# Calculate the current year\n",
    "current_year = datetime.now().year\n",
    "\n",
    "# Create a new column 'age' by subtracting construction year from the current year\n",
    "Construction_Year_df['age'] = current_year - Waterwells_df['construction_year']"
   ]
  },
  {
   "cell_type": "code",
   "execution_count": 11,
   "metadata": {},
   "outputs": [
    {
     "data": {
      "text/plain": [
       "2010    2645\n",
       "2008    2613\n",
       "2009    2533\n",
       "2000    2091\n",
       "2007    1587\n",
       "2006    1471\n",
       "2003    1286\n",
       "2011    1256\n",
       "2004    1123\n",
       "2012    1084\n",
       "2002    1075\n",
       "1978    1037\n",
       "1995    1014\n",
       "2005    1011\n",
       "1999     979\n",
       "1998     966\n",
       "1990     954\n",
       "1985     945\n",
       "1996     811\n",
       "1980     811\n",
       "1984     779\n",
       "1982     744\n",
       "1994     738\n",
       "1972     708\n",
       "1974     676\n",
       "1997     644\n",
       "1992     640\n",
       "1993     608\n",
       "2001     540\n",
       "1988     521\n",
       "1983     488\n",
       "1975     437\n",
       "1986     434\n",
       "1976     414\n",
       "1970     411\n",
       "1991     324\n",
       "1989     316\n",
       "1987     302\n",
       "1981     238\n",
       "1977     202\n",
       "1979     192\n",
       "1973     184\n",
       "2013     176\n",
       "1971     145\n",
       "1960     102\n",
       "1967      88\n",
       "1963      85\n",
       "1968      77\n",
       "1969      59\n",
       "1964      40\n",
       "1962      30\n",
       "1961      21\n",
       "1965      19\n",
       "1966      17\n",
       "Name: construction_year, dtype: int64"
      ]
     },
     "execution_count": 11,
     "metadata": {},
     "output_type": "execute_result"
    }
   ],
   "source": [
    "Construction_Year_df['construction_year'].value_counts()"
   ]
  },
  {
   "cell_type": "code",
   "execution_count": 12,
   "metadata": {},
   "outputs": [],
   "source": [
    "# deleting the 'construction_year' column since we replaced it with an 'age' column\n",
    "Construction_Year_df = Construction_Year_df.drop('construction_year', axis=1)"
   ]
  },
  {
   "cell_type": "code",
   "execution_count": 13,
   "metadata": {},
   "outputs": [
    {
     "data": {
      "text/html": [
       "<div>\n",
       "<style scoped>\n",
       "    .dataframe tbody tr th:only-of-type {\n",
       "        vertical-align: middle;\n",
       "    }\n",
       "\n",
       "    .dataframe tbody tr th {\n",
       "        vertical-align: top;\n",
       "    }\n",
       "\n",
       "    .dataframe thead th {\n",
       "        text-align: right;\n",
       "    }\n",
       "</style>\n",
       "<table border=\"1\" class=\"dataframe\">\n",
       "  <thead>\n",
       "    <tr style=\"text-align: right;\">\n",
       "      <th></th>\n",
       "      <th>gps_height</th>\n",
       "      <th>extraction_type_class</th>\n",
       "      <th>water_quality</th>\n",
       "      <th>quality_group</th>\n",
       "      <th>quantity</th>\n",
       "      <th>quantity_group</th>\n",
       "      <th>source</th>\n",
       "      <th>waterpoint_type</th>\n",
       "      <th>needs_repair</th>\n",
       "      <th>age</th>\n",
       "    </tr>\n",
       "  </thead>\n",
       "  <tbody>\n",
       "    <tr>\n",
       "      <th>0</th>\n",
       "      <td>1390</td>\n",
       "      <td>gravity</td>\n",
       "      <td>soft</td>\n",
       "      <td>good</td>\n",
       "      <td>enough</td>\n",
       "      <td>enough</td>\n",
       "      <td>spring</td>\n",
       "      <td>communal standpipe</td>\n",
       "      <td>0</td>\n",
       "      <td>25</td>\n",
       "    </tr>\n",
       "    <tr>\n",
       "      <th>1</th>\n",
       "      <td>1399</td>\n",
       "      <td>gravity</td>\n",
       "      <td>soft</td>\n",
       "      <td>good</td>\n",
       "      <td>insufficient</td>\n",
       "      <td>insufficient</td>\n",
       "      <td>rainwater harvesting</td>\n",
       "      <td>communal standpipe</td>\n",
       "      <td>0</td>\n",
       "      <td>14</td>\n",
       "    </tr>\n",
       "    <tr>\n",
       "      <th>2</th>\n",
       "      <td>686</td>\n",
       "      <td>gravity</td>\n",
       "      <td>soft</td>\n",
       "      <td>good</td>\n",
       "      <td>enough</td>\n",
       "      <td>enough</td>\n",
       "      <td>dam</td>\n",
       "      <td>communal standpipe multiple</td>\n",
       "      <td>0</td>\n",
       "      <td>15</td>\n",
       "    </tr>\n",
       "    <tr>\n",
       "      <th>3</th>\n",
       "      <td>263</td>\n",
       "      <td>submersible</td>\n",
       "      <td>soft</td>\n",
       "      <td>good</td>\n",
       "      <td>dry</td>\n",
       "      <td>dry</td>\n",
       "      <td>machine dbh</td>\n",
       "      <td>communal standpipe multiple</td>\n",
       "      <td>1</td>\n",
       "      <td>38</td>\n",
       "    </tr>\n",
       "    <tr>\n",
       "      <th>5</th>\n",
       "      <td>0</td>\n",
       "      <td>submersible</td>\n",
       "      <td>salty</td>\n",
       "      <td>salty</td>\n",
       "      <td>enough</td>\n",
       "      <td>enough</td>\n",
       "      <td>other</td>\n",
       "      <td>communal standpipe multiple</td>\n",
       "      <td>0</td>\n",
       "      <td>15</td>\n",
       "    </tr>\n",
       "  </tbody>\n",
       "</table>\n",
       "</div>"
      ],
      "text/plain": [
       "   gps_height extraction_type_class water_quality quality_group      quantity  \\\n",
       "0        1390               gravity          soft          good        enough   \n",
       "1        1399               gravity          soft          good  insufficient   \n",
       "2         686               gravity          soft          good        enough   \n",
       "3         263           submersible          soft          good           dry   \n",
       "5           0           submersible         salty         salty        enough   \n",
       "\n",
       "  quantity_group                source              waterpoint_type  \\\n",
       "0         enough                spring           communal standpipe   \n",
       "1   insufficient  rainwater harvesting           communal standpipe   \n",
       "2         enough                   dam  communal standpipe multiple   \n",
       "3            dry           machine dbh  communal standpipe multiple   \n",
       "5         enough                 other  communal standpipe multiple   \n",
       "\n",
       "   needs_repair  age  \n",
       "0             0   25  \n",
       "1             0   14  \n",
       "2             0   15  \n",
       "3             1   38  \n",
       "5             0   15  "
      ]
     },
     "execution_count": 13,
     "metadata": {},
     "output_type": "execute_result"
    }
   ],
   "source": [
    "Construction_Year_df.head()"
   ]
  },
  {
   "cell_type": "code",
   "execution_count": 14,
   "metadata": {},
   "outputs": [
    {
     "name": "stdout",
     "output_type": "stream",
     "text": [
      "<class 'pandas.core.frame.DataFrame'>\n",
      "Int64Index: 38691 entries, 0 to 59399\n",
      "Data columns (total 10 columns):\n",
      " #   Column                 Non-Null Count  Dtype \n",
      "---  ------                 --------------  ----- \n",
      " 0   gps_height             38691 non-null  int64 \n",
      " 1   extraction_type_class  38691 non-null  object\n",
      " 2   water_quality          38691 non-null  object\n",
      " 3   quality_group          38691 non-null  object\n",
      " 4   quantity               38691 non-null  object\n",
      " 5   quantity_group         38691 non-null  object\n",
      " 6   source                 38691 non-null  object\n",
      " 7   waterpoint_type        38691 non-null  object\n",
      " 8   needs_repair           38691 non-null  int64 \n",
      " 9   age                    38691 non-null  int64 \n",
      "dtypes: int64(3), object(7)\n",
      "memory usage: 3.2+ MB\n"
     ]
    }
   ],
   "source": [
    "Construction_Year_df.info()"
   ]
  },
  {
   "cell_type": "code",
   "execution_count": null,
   "metadata": {},
   "outputs": [],
   "source": [
    "Construction_Year_df['needs_repair'].value_counts()"
   ]
  },
  {
   "cell_type": "code",
   "execution_count": null,
   "metadata": {},
   "outputs": [],
   "source": [
    "# Defining X and y variables\n",
    "y = Construction_Year_df[\"needs_repair\"]\n",
    "X = Construction_Year_df.drop(\"needs_repair\", axis=1)"
   ]
  },
  {
   "cell_type": "code",
   "execution_count": null,
   "metadata": {},
   "outputs": [],
   "source": [
    "# Performing a train, test, split\n",
    "X_train, X_test, y_train, y_test = train_test_split(X, y, test_size = 0.2, random_state=42)"
   ]
  },
  {
   "cell_type": "code",
   "execution_count": null,
   "metadata": {},
   "outputs": [],
   "source": [
    "# Looking at the number of missing values in each column\n",
    "X_train.isna().sum()"
   ]
  },
  {
   "cell_type": "code",
   "execution_count": null,
   "metadata": {
    "scrolled": true
   },
   "outputs": [],
   "source": [
    "# Create a list of all the categorical features\n",
    "cols_to_transform = ['quantity_group', 'waterpoint_type','extraction_type_class',\n",
    "                     'quality_group', 'source',\n",
    "                     'water_quality', 'quantity']\n",
    "# Create a dataframe with the new dummy columns created from the cols_to_transform list\n",
    "X_train = pd.get_dummies(\n",
    "    data=X_train, columns=cols_to_transform, drop_first=True, dtype=int)"
   ]
  },
  {
   "cell_type": "code",
   "execution_count": null,
   "metadata": {},
   "outputs": [],
   "source": [
    "X_train.info()"
   ]
  },
  {
   "cell_type": "code",
   "execution_count": null,
   "metadata": {},
   "outputs": [],
   "source": [
    "X_train.head()"
   ]
  },
  {
   "cell_type": "code",
   "execution_count": null,
   "metadata": {
    "scrolled": true
   },
   "outputs": [],
   "source": [
    "# Defining the columns to scale\n",
    "column_to_scale = ['gps_height']\n",
    "\n",
    "# Initialize the scaler\n",
    "scaler = MinMaxScaler()\n",
    "\n",
    "# Fit the scaler on the specified columns and transform the data\n",
    "X_train[column_to_scale] = scaler.fit_transform(X_train[column_to_scale])"
   ]
  },
  {
   "cell_type": "code",
   "execution_count": null,
   "metadata": {
    "scrolled": true
   },
   "outputs": [],
   "source": [
    "# Inspecting the data to make sure it was scaled\n",
    "X_train.head()"
   ]
  },
  {
   "cell_type": "code",
   "execution_count": null,
   "metadata": {
    "scrolled": true
   },
   "outputs": [],
   "source": [
    "# Filtering the data based on 'needs_repair'\n",
    "needs_repair_histogram = Construction_Year_df[Construction_Year_df['needs_repair'] == 1]['gps_height']\n",
    "\n",
    "#plotting a histogram\n",
    "plt.hist(needs_repair_histogram, bins=75, color='blue', alpha=0.5)\n",
    "plt.xlabel('GPS Height')\n",
    "plt.ylabel('Frequency')\n",
    "plt.title('Histogram of GPS Height for Needs Repair')\n",
    "plt.show()"
   ]
  },
  {
   "cell_type": "code",
   "execution_count": null,
   "metadata": {},
   "outputs": [],
   "source": [
    "# Create a histogram\n",
    "plt.figure(figsize=(10, 6))\n",
    "plt.hist(Construction_Year_df['gps_height'], bins=75, color='skyblue', edgecolor='black')\n",
    "\n",
    "# Customize the plot\n",
    "plt.title('Histogram of Wells at Each Altitude')\n",
    "plt.xlabel('Altitude (gps_height)')\n",
    "plt.ylabel('Number of Wells')\n",
    "plt.grid(axis='y', alpha=0.75)\n",
    "\n",
    "# Show the plot\n",
    "plt.show()"
   ]
  },
  {
   "cell_type": "code",
   "execution_count": null,
   "metadata": {},
   "outputs": [],
   "source": [
    "# Create a histogram for 'gps_height' for all wells\n",
    "all_histogram, bin_edges_all = np.histogram(Construction_Year_df['gps_height'], bins=75)\n",
    "\n",
    "# Create a histogram for 'gps_height' for wells that need repair\n",
    "needs_repair_histogram, bin_edges_needs_repair = np.histogram(\n",
    "    Construction_Year_df[Construction_Year_df['needs_repair'] == 1]['gps_height'], bins=75)\n",
    "\n",
    "# Calculate the ratios\n",
    "ratios = needs_repair_histogram / all_histogram.astype(float)\n",
    "\n",
    "# Calculate the bin centers\n",
    "bin_centers = (bin_edges_all[:-1] + bin_edges_all[1:]) / 2\n",
    "\n",
    "# Plot the ratios\n",
    "plt.figure(figsize=(10, 6))\n",
    "plt.plot(bin_centers, ratios, color='orange', marker='o')\n",
    "\n",
    "# Customize the plot\n",
    "plt.title('Ratios of Wells that Need Repair to All Wells at Each Altitude')\n",
    "plt.xlabel('Altitude (gps_height)')\n",
    "plt.ylabel('Ratio')\n",
    "plt.grid(axis='y', alpha=0.75)\n",
    "\n",
    "# Show the plot\n",
    "plt.show()"
   ]
  },
  {
   "cell_type": "code",
   "execution_count": null,
   "metadata": {},
   "outputs": [],
   "source": [
    "# Filter data for wells that need repair and those that don't\n",
    "needs_repair_age = Construction_Year_df[Construction_Year_df['needs_repair'] == 1]['age']\n",
    "\n",
    "# Create histograms for age of wells\n",
    "plt.figure(figsize=(10, 6))\n",
    "plt.hist(needs_repair_age, bins=30, alpha=0.5, color='red', label='Needs Repair')\n",
    "\n",
    "# Customize the plot\n",
    "plt.title('Histogram of Well Age by Repair Status')\n",
    "plt.xlabel('Age')\n",
    "plt.ylabel('Number of Wells')\n",
    "plt.legend()\n",
    "plt.grid(axis='y', alpha=0.75)\n",
    "\n",
    "# Show the plot\n",
    "plt.show()"
   ]
  },
  {
   "cell_type": "code",
   "execution_count": null,
   "metadata": {},
   "outputs": [],
   "source": [
    "# Create a histogram\n",
    "plt.figure(figsize=(10, 6))\n",
    "plt.hist(Construction_Year_df['age'], bins=75, color='skyblue', edgecolor='black')\n",
    "\n",
    "# Customize the plot\n",
    "plt.title('Histogram of Wells at Each Age')\n",
    "plt.xlabel('Age (age)')\n",
    "plt.ylabel('Number of Wells')\n",
    "plt.grid(axis='y', alpha=0.75)\n",
    "\n",
    "# Show the plot\n",
    "plt.show()"
   ]
  },
  {
   "cell_type": "code",
   "execution_count": null,
   "metadata": {},
   "outputs": [],
   "source": [
    "# Create a histogram for 'age' for all wells\n",
    "all_histogram_age, bin_edges_all = np.histogram(Construction_Year_df['age'], bins=75)\n",
    "\n",
    "# Create a histogram for 'gps_height' for wells that need repair\n",
    "needs_repair_histo, bin_edges_needs_repair = np.histogram(\n",
    "    Construction_Year_df[Construction_Year_df['needs_repair'] == 1]['age'], bins=75)\n",
    "\n",
    "# Calculate the ratios\n",
    "ratios = needs_repair_histo / all_histogram_age.astype(float)\n",
    "\n",
    "# Calculate the bin centers\n",
    "bin_centers = (bin_edges_all[:-1] + bin_edges_all[1:]) / 2\n",
    "\n",
    "# Plot the ratios\n",
    "plt.figure(figsize=(10, 6))\n",
    "plt.plot(bin_centers, ratios, color='orange', marker='o')\n",
    "\n",
    "# Customize the plot\n",
    "plt.title('Ratios of Wells that Need Repair to All Wells at Each Age')\n",
    "plt.xlabel('Age (age)')\n",
    "plt.ylabel('Ratio')\n",
    "plt.grid(axis='y', alpha=0.75)\n",
    "\n",
    "# Show the plot\n",
    "plt.show()"
   ]
  },
  {
   "cell_type": "markdown",
   "metadata": {},
   "source": [
    "# Modeling"
   ]
  },
  {
   "cell_type": "code",
   "execution_count": null,
   "metadata": {},
   "outputs": [],
   "source": [
    "# Building a logistic regression model\n",
    "logreg = LogisticRegression(fit_intercept=False, C=1e12, solver='liblinear')\n",
    "model_log = logreg.fit(X_train, y_train)\n",
    "model_log"
   ]
  },
  {
   "cell_type": "markdown",
   "metadata": {},
   "source": [
    "The classifier was about 74% accurate on the training data."
   ]
  },
  {
   "cell_type": "code",
   "execution_count": null,
   "metadata": {},
   "outputs": [],
   "source": [
    "# Checking the performance on the training data\n",
    "y_hat_train = logreg.predict(X_train)\n",
    "\n",
    "train_residuals = np.abs(y_train - y_hat_train)\n",
    "print(pd.Series(train_residuals, name=\"Residuals (counts)\").value_counts())\n",
    "print()\n",
    "print(pd.Series(train_residuals, name=\"Residuals (proportions)\").value_counts(normalize=True))"
   ]
  },
  {
   "cell_type": "code",
   "execution_count": null,
   "metadata": {},
   "outputs": [],
   "source": [
    "# Looking at the number of missing values in each column\n",
    "X_test.isna().sum()"
   ]
  },
  {
   "cell_type": "code",
   "execution_count": null,
   "metadata": {},
   "outputs": [],
   "source": [
    "# Create a list of all the categorical features\n",
    "cols_to_transform = ['quantity_group', 'waterpoint_type','extraction_type_class',\n",
    "                     'quality_group', 'source',\n",
    "                     'water_quality', 'quantity']\n",
    "# Create a dataframe with the new dummy columns created from the cols_to_transform list\n",
    "X_test = pd.get_dummies(\n",
    "    data=X_test, columns=cols_to_transform, drop_first=True, dtype=int)"
   ]
  },
  {
   "cell_type": "code",
   "execution_count": null,
   "metadata": {},
   "outputs": [],
   "source": [
    "# Fit the scaler on the specified columns and transform the data\n",
    "X_test[column_to_scale] = scaler.fit_transform(X_test[column_to_scale])"
   ]
  },
  {
   "cell_type": "code",
   "execution_count": null,
   "metadata": {},
   "outputs": [],
   "source": [
    "logreg.score(X_test, y_test)"
   ]
  },
  {
   "cell_type": "markdown",
   "metadata": {},
   "source": [
    "We are still about 74% accuarate on our test data."
   ]
  },
  {
   "cell_type": "code",
   "execution_count": null,
   "metadata": {},
   "outputs": [],
   "source": [
    "y_hat_test = logreg.predict(X_test)\n",
    "\n",
    "test_residuals = np.abs(y_test - y_hat_test)\n",
    "print(pd.Series(test_residuals, name=\"Residuals (counts)\").value_counts())\n",
    "print()\n",
    "print(pd.Series(test_residuals, name=\"Residuals (proportions)\").value_counts(normalize=True))"
   ]
  },
  {
   "cell_type": "code",
   "execution_count": null,
   "metadata": {},
   "outputs": [],
   "source": [
    "cvscore = cross_val_score(logreg, X_train, y_train.values, cv=10)"
   ]
  },
  {
   "cell_type": "code",
   "execution_count": null,
   "metadata": {},
   "outputs": [],
   "source": [
    "cvscore"
   ]
  },
  {
   "cell_type": "code",
   "execution_count": null,
   "metadata": {},
   "outputs": [],
   "source": [
    "np.average(cvscore)"
   ]
  },
  {
   "cell_type": "code",
   "execution_count": null,
   "metadata": {},
   "outputs": [],
   "source": [
    "np.std(cvscore)"
   ]
  },
  {
   "cell_type": "markdown",
   "metadata": {},
   "source": [
    "Building a single decision tree"
   ]
  },
  {
   "cell_type": "code",
   "execution_count": null,
   "metadata": {},
   "outputs": [],
   "source": [
    "# Create the classifier, fit it on the training data and make predictions on the test set\n",
    "clf = DecisionTreeClassifier(criterion='entropy')\n",
    "\n",
    "clf.fit(X_train, y_train)"
   ]
  },
  {
   "cell_type": "code",
   "execution_count": null,
   "metadata": {},
   "outputs": [],
   "source": [
    "y_pred = clf.predict(X_test)"
   ]
  },
  {
   "cell_type": "code",
   "execution_count": null,
   "metadata": {},
   "outputs": [],
   "source": [
    "print(classification_report(y_test, y_pred))"
   ]
  },
  {
   "cell_type": "code",
   "execution_count": null,
   "metadata": {
    "scrolled": true
   },
   "outputs": [],
   "source": [
    "clf.feature_importances_"
   ]
  },
  {
   "cell_type": "code",
   "execution_count": null,
   "metadata": {},
   "outputs": [],
   "source": [
    "print(\"clf.feature_importances_:\", clf.feature_importances_)\n",
    "print(\"X.columns:\", X_train.columns)"
   ]
  },
  {
   "cell_type": "code",
   "execution_count": null,
   "metadata": {},
   "outputs": [],
   "source": [
    "features = pd.DataFrame(clf.feature_importances_, index=X_train.columns, columns=['Importance'])\n",
    "print(features)"
   ]
  },
  {
   "cell_type": "markdown",
   "metadata": {},
   "source": [
    "Building a Random Forest Model"
   ]
  },
  {
   "cell_type": "code",
   "execution_count": null,
   "metadata": {},
   "outputs": [],
   "source": [
    "rf = RandomForestClassifier()"
   ]
  },
  {
   "cell_type": "code",
   "execution_count": null,
   "metadata": {},
   "outputs": [],
   "source": [
    "rf.fit(X_train, y_train)"
   ]
  },
  {
   "cell_type": "code",
   "execution_count": null,
   "metadata": {},
   "outputs": [],
   "source": [
    "y_pred = rf.predict(X_test)"
   ]
  },
  {
   "cell_type": "code",
   "execution_count": null,
   "metadata": {},
   "outputs": [],
   "source": [
    "rf.score(X_test, y_test)"
   ]
  },
  {
   "cell_type": "code",
   "execution_count": null,
   "metadata": {},
   "outputs": [],
   "source": [
    "print(classification_report(y_test, y_pred))"
   ]
  },
  {
   "cell_type": "code",
   "execution_count": null,
   "metadata": {
    "scrolled": false
   },
   "outputs": [],
   "source": [
    "features = pd.DataFrame(rf.feature_importances_, index = X_train.columns)\n",
    "print(features)"
   ]
  },
  {
   "cell_type": "code",
   "execution_count": null,
   "metadata": {},
   "outputs": [],
   "source": [
    "# Sorting the features by most influential to least\n",
    "features_sorted = features.sort_values(by=0, ascending=False)\n",
    "print(features_sorted)"
   ]
  },
  {
   "cell_type": "markdown",
   "metadata": {},
   "source": [
    "Building a third model with hyperparameters"
   ]
  },
  {
   "cell_type": "code",
   "execution_count": null,
   "metadata": {},
   "outputs": [],
   "source": [
    "rf2 = RandomForestClassifier(n_estimators = 1000,\n",
    "                            criterion = 'entropy',\n",
    "                            min_samples_split = 10,\n",
    "                            max_depth = 15,\n",
    "                            random_state = 42\n",
    ")"
   ]
  },
  {
   "cell_type": "code",
   "execution_count": null,
   "metadata": {},
   "outputs": [],
   "source": [
    "rf2.fit(X_train, y_train)"
   ]
  },
  {
   "cell_type": "code",
   "execution_count": null,
   "metadata": {},
   "outputs": [],
   "source": [
    "rf2.score(X_test, y_test)"
   ]
  },
  {
   "cell_type": "code",
   "execution_count": null,
   "metadata": {},
   "outputs": [],
   "source": [
    "y_pred2 = rf2.predict(X_test)"
   ]
  },
  {
   "cell_type": "code",
   "execution_count": null,
   "metadata": {},
   "outputs": [],
   "source": [
    "print(classification_report(y_test, y_pred2))"
   ]
  },
  {
   "cell_type": "code",
   "execution_count": null,
   "metadata": {},
   "outputs": [],
   "source": [
    "features = pd.DataFrame(rf2.feature_importances_, index = X_train.columns)\n",
    "print(features)"
   ]
  },
  {
   "cell_type": "code",
   "execution_count": null,
   "metadata": {},
   "outputs": [],
   "source": [
    "# Sorting the features by most influential to least\n",
    "features_sorted = features.sort_values(by=0, ascending=False)\n",
    "print(features_sorted)"
   ]
  },
  {
   "cell_type": "code",
   "execution_count": null,
   "metadata": {},
   "outputs": [],
   "source": [
    "print(confusion_matrix(y_test, y_pred))"
   ]
  },
  {
   "cell_type": "markdown",
   "metadata": {},
   "source": [
    "The confusion matrix shows that our True/Positives are 2,388, our True/Negatives are 3,440. The False/Positives are at 897, and the False/Negatives are 1,014."
   ]
  },
  {
   "cell_type": "code",
   "execution_count": null,
   "metadata": {},
   "outputs": [],
   "source": [
    "# Assuming you have your predicted labels and true labels\n",
    "# Replace 'y_true' and 'y_pred' with your actual data\n",
    "# Example:\n",
    "# y_true = true labels\n",
    "# y_pred = predicted labels\n",
    "\n",
    "# Generate a confusion matrix\n",
    "cm = confusion_matrix(y_test, y_pred)\n",
    "\n",
    "# Set up a figure and axis\n",
    "plt.figure(figsize=(8, 6))\n",
    "sns.set(font_scale=1.2)  # Adjust font size for better readability\n",
    "\n",
    "# Create a heatmap of the confusion matrix\n",
    "sns.heatmap(cm, annot=True, fmt='g', cmap='Blues', cbar=False,\n",
    "            annot_kws={\"size\": 14}, square=True,\n",
    "            xticklabels=['Not Needs Repair', 'Needs Repair'],\n",
    "            yticklabels=['Not Needs Repair', 'Needs Repair'])\n",
    "\n",
    "plt.xlabel('Predicted')\n",
    "plt.ylabel('True')\n",
    "plt.title('Confusion Matrix')\n",
    "plt.show()"
   ]
  },
  {
   "cell_type": "markdown",
   "metadata": {},
   "source": [
    "# Evaluation"
   ]
  },
  {
   "cell_type": "markdown",
   "metadata": {},
   "source": [
    "My best performing model was my rf2 model which was the Random Forest model with hyperparameters. It showed a 76% on the macro avg. (where all classes equally contribute to the final averaged metric) of recall. Although this isn't great, it does help in identifying wells that are in need of repair. I focused on recall because it explains how many of the actual positive cases we were able to predict correctly. When it came to the problem of  the business understanding it was more of a concern to identify false negatives , labeling wells as not needing repair that are actually in need of repair will lead to people not having access to water. "
   ]
  },
  {
   "cell_type": "markdown",
   "metadata": {},
   "source": [
    "# Conclusion"
   ]
  },
  {
   "cell_type": "code",
   "execution_count": null,
   "metadata": {},
   "outputs": [],
   "source": []
  },
  {
   "cell_type": "markdown",
   "metadata": {},
   "source": [
    "# Recommendations"
   ]
  },
  {
   "cell_type": "code",
   "execution_count": null,
   "metadata": {},
   "outputs": [],
   "source": []
  },
  {
   "cell_type": "markdown",
   "metadata": {},
   "source": [
    "# Limitations"
   ]
  },
  {
   "cell_type": "code",
   "execution_count": null,
   "metadata": {},
   "outputs": [],
   "source": []
  },
  {
   "cell_type": "markdown",
   "metadata": {},
   "source": [
    "# Next Steps"
   ]
  },
  {
   "cell_type": "code",
   "execution_count": null,
   "metadata": {},
   "outputs": [],
   "source": [
    "# Look at better population around the well data"
   ]
  }
 ],
 "metadata": {
  "kernelspec": {
   "display_name": "Python [conda env:learn-env] *",
   "language": "python",
   "name": "conda-env-learn-env-py"
  },
  "language_info": {
   "codemirror_mode": {
    "name": "ipython",
    "version": 3
   },
   "file_extension": ".py",
   "mimetype": "text/x-python",
   "name": "python",
   "nbconvert_exporter": "python",
   "pygments_lexer": "ipython3",
   "version": "3.8.5"
  }
 },
 "nbformat": 4,
 "nbformat_minor": 4
}
